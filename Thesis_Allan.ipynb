{
 "cells": [
  {
   "cell_type": "markdown",
   "id": "c2b6c525-643e-4c02-a06d-8078bb2ae0aa",
   "metadata": {},
   "source": [
    "# Thesis Python Script - Richard-Constandine Allan"
   ]
  },
  {
   "cell_type": "markdown",
   "id": "cdb6c6ae-a207-4eb8-8672-fd4bdccf9e09",
   "metadata": {},
   "source": [
    "The following text is a Python script that I have written as a part of my thesis. This script is designed to perform specific tasks related to my research, including analysing natural gas determinants and forecasting natural gas prices."
   ]
  },
  {
   "cell_type": "markdown",
   "id": "3ca230d9-b19d-40b6-a31c-2586a5c76425",
   "metadata": {},
   "source": [
    "# Part 1 - Import Libraries"
   ]
  },
  {
   "cell_type": "code",
   "execution_count": 3,
   "id": "cf696ccf-fee1-41d9-8787-91e99993075e",
   "metadata": {},
   "outputs": [],
   "source": [
    "import pandas as pd \n",
    "import seaborn as sns\n",
    "from statsmodels.tsa.seasonal import seasonal_decompose\n",
    "import datetime\n",
    "import matplotlib.pyplot as plt\n",
    "from sklearn.metrics import mean_absolute_error,mean_squared_error,mean_absolute_percentage_error\n",
    "from sklearn.metrics import r2_score\n",
    "from sklearn.metrics import mean_absolute_error\n",
    "from scipy.stats import kurtosis\n",
    "import scipy.stats as stats\n",
    "import numpy as np\n",
    "from sklearn.preprocessing import StandardScaler \n",
    "from sklearn.svm import SVR \n",
    "from sklearn.model_selection import train_test_split\n",
    "from sklearn.model_selection import GridSearchCV\n",
    "from statsmodels.tsa.stattools import adfuller\n",
    "import statsmodels.api as sm\n",
    "from pmdarima import auto_arima\n",
    "from sklearn.linear_model import LinearRegression\n",
    "import tensorflow as tf\n",
    "from tensorflow.keras.models import Sequential\n",
    "from tensorflow.keras.layers import Dense, LSTM\n",
    "from sklearn.preprocessing import StandardScaler\n",
    "from statsmodels.graphics.tsaplots import plot_acf\n",
    "from statsmodels.graphics.tsaplots import plot_pacf\n",
    "from sklearn.preprocessing import MinMaxScaler\n",
    "from tensorflow.keras.models import Sequential\n",
    "from tensorflow.keras.layers import LSTM, Dense"
   ]
  },
  {
   "cell_type": "code",
   "execution_count": 2,
   "id": "5c0dda1b-7d22-4f66-96e5-85111970f3b0",
   "metadata": {},
   "outputs": [],
   "source": [
    "import warnings\n",
    "warnings.filterwarnings(\"ignore\")"
   ]
  },
  {
   "cell_type": "markdown",
   "id": "67f53bb9-c230-48bf-a61e-4766c6fd8101",
   "metadata": {},
   "source": [
    "# Part 2 - Import Data"
   ]
  },
  {
   "cell_type": "code",
   "execution_count": 4,
   "id": "1778735a-bc20-4cb8-bcbc-a351ac4a64f4",
   "metadata": {},
   "outputs": [],
   "source": [
    "Cap = pd.read_csv(\"........../NG_Capacity.csv\")\n",
    "Temp = pd.read_csv(\"........../Temp_W_Europe.csv\")\n",
    "TTF = pd.read_csv(\"........../Data_Thesis/TTF_Price.csv\")\n",
    "Brent = pd.read_csv(\"........../Brent.csv\")\n",
    "Coal = pd.read_csv(\"........../Coal.csv\")"
   ]
  },
  {
   "cell_type": "code",
   "execution_count": 5,
   "id": "a8549126-d301-4460-8756-2123ebe1d25f",
   "metadata": {},
   "outputs": [],
   "source": [
    "TTF = TTF.rename(columns={'Close Price': 'TTF_Price'})"
   ]
  },
  {
   "cell_type": "markdown",
   "id": "8fe40518-ba47-4a90-84c8-df10a20cd505",
   "metadata": {},
   "source": [
    "# Part 3 - Converting Data"
   ]
  },
  {
   "cell_type": "markdown",
   "id": "47c8ccdf-fbe2-4c82-9755-410bdfb8c700",
   "metadata": {},
   "source": [
    "Brent Oil"
   ]
  },
  {
   "cell_type": "code",
   "execution_count": 6,
   "id": "1045a6c2-a100-463f-87b5-3339cc24ae23",
   "metadata": {},
   "outputs": [
    {
     "data": {
      "text/html": [
       "<div>\n",
       "<style scoped>\n",
       "    .dataframe tbody tr th:only-of-type {\n",
       "        vertical-align: middle;\n",
       "    }\n",
       "\n",
       "    .dataframe tbody tr th {\n",
       "        vertical-align: top;\n",
       "    }\n",
       "\n",
       "    .dataframe thead th {\n",
       "        text-align: right;\n",
       "    }\n",
       "</style>\n",
       "<table border=\"1\" class=\"dataframe\">\n",
       "  <thead>\n",
       "    <tr style=\"text-align: right;\">\n",
       "      <th></th>\n",
       "      <th>Date</th>\n",
       "      <th>Brent_Price</th>\n",
       "    </tr>\n",
       "  </thead>\n",
       "  <tbody>\n",
       "    <tr>\n",
       "      <th>0</th>\n",
       "      <td>1/2/2014</td>\n",
       "      <td>81.38</td>\n",
       "    </tr>\n",
       "    <tr>\n",
       "      <th>1</th>\n",
       "      <td>1/3/2014</td>\n",
       "      <td>80.35</td>\n",
       "    </tr>\n",
       "    <tr>\n",
       "      <th>2</th>\n",
       "      <td>1/6/2014</td>\n",
       "      <td>80.45</td>\n",
       "    </tr>\n",
       "    <tr>\n",
       "      <th>3</th>\n",
       "      <td>1/7/2014</td>\n",
       "      <td>80.68</td>\n",
       "    </tr>\n",
       "    <tr>\n",
       "      <th>4</th>\n",
       "      <td>1/8/2014</td>\n",
       "      <td>80.99</td>\n",
       "    </tr>\n",
       "  </tbody>\n",
       "</table>\n",
       "</div>"
      ],
      "text/plain": [
       "       Date  Brent_Price\n",
       "0  1/2/2014        81.38\n",
       "1  1/3/2014        80.35\n",
       "2  1/6/2014        80.45\n",
       "3  1/7/2014        80.68\n",
       "4  1/8/2014        80.99"
      ]
     },
     "execution_count": 6,
     "metadata": {},
     "output_type": "execute_result"
    }
   ],
   "source": [
    "Brent.head()"
   ]
  },
  {
   "cell_type": "code",
   "execution_count": 7,
   "id": "ba754357-71b6-4576-b503-6426164dd60b",
   "metadata": {},
   "outputs": [
    {
     "data": {
      "text/plain": [
       "Date           1631\n",
       "Brent_Price    1631\n",
       "dtype: int64"
      ]
     },
     "execution_count": 7,
     "metadata": {},
     "output_type": "execute_result"
    }
   ],
   "source": [
    "Brent.count()"
   ]
  },
  {
   "cell_type": "code",
   "execution_count": 8,
   "id": "2aec2fb1-e3a8-4818-958e-7edbd3e10db2",
   "metadata": {},
   "outputs": [
    {
     "data": {
      "text/html": [
       "<div>\n",
       "<style scoped>\n",
       "    .dataframe tbody tr th:only-of-type {\n",
       "        vertical-align: middle;\n",
       "    }\n",
       "\n",
       "    .dataframe tbody tr th {\n",
       "        vertical-align: top;\n",
       "    }\n",
       "\n",
       "    .dataframe thead th {\n",
       "        text-align: right;\n",
       "    }\n",
       "</style>\n",
       "<table border=\"1\" class=\"dataframe\">\n",
       "  <thead>\n",
       "    <tr style=\"text-align: right;\">\n",
       "      <th></th>\n",
       "      <th>Brent_Price</th>\n",
       "    </tr>\n",
       "  </thead>\n",
       "  <tbody>\n",
       "    <tr>\n",
       "      <th>count</th>\n",
       "      <td>1631.000000</td>\n",
       "    </tr>\n",
       "    <tr>\n",
       "      <th>mean</th>\n",
       "      <td>53.295604</td>\n",
       "    </tr>\n",
       "    <tr>\n",
       "      <th>std</th>\n",
       "      <td>14.226052</td>\n",
       "    </tr>\n",
       "    <tr>\n",
       "      <th>min</th>\n",
       "      <td>8.000000</td>\n",
       "    </tr>\n",
       "    <tr>\n",
       "      <th>25%</th>\n",
       "      <td>43.845000</td>\n",
       "    </tr>\n",
       "    <tr>\n",
       "      <th>50%</th>\n",
       "      <td>52.980000</td>\n",
       "    </tr>\n",
       "    <tr>\n",
       "      <th>75%</th>\n",
       "      <td>60.655000</td>\n",
       "    </tr>\n",
       "    <tr>\n",
       "      <th>max</th>\n",
       "      <td>86.850000</td>\n",
       "    </tr>\n",
       "  </tbody>\n",
       "</table>\n",
       "</div>"
      ],
      "text/plain": [
       "       Brent_Price\n",
       "count  1631.000000\n",
       "mean     53.295604\n",
       "std      14.226052\n",
       "min       8.000000\n",
       "25%      43.845000\n",
       "50%      52.980000\n",
       "75%      60.655000\n",
       "max      86.850000"
      ]
     },
     "execution_count": 8,
     "metadata": {},
     "output_type": "execute_result"
    }
   ],
   "source": [
    "Brent.describe()"
   ]
  },
  {
   "cell_type": "markdown",
   "id": "01acd62c-5b7a-4ed3-a420-d2da5d3118b3",
   "metadata": {},
   "source": [
    "Coal"
   ]
  },
  {
   "cell_type": "code",
   "execution_count": 9,
   "id": "edba7fc5-6b04-465d-aa54-4d134e3a5eeb",
   "metadata": {},
   "outputs": [
    {
     "data": {
      "text/html": [
       "<div>\n",
       "<style scoped>\n",
       "    .dataframe tbody tr th:only-of-type {\n",
       "        vertical-align: middle;\n",
       "    }\n",
       "\n",
       "    .dataframe tbody tr th {\n",
       "        vertical-align: top;\n",
       "    }\n",
       "\n",
       "    .dataframe thead th {\n",
       "        text-align: right;\n",
       "    }\n",
       "</style>\n",
       "<table border=\"1\" class=\"dataframe\">\n",
       "  <thead>\n",
       "    <tr style=\"text-align: right;\">\n",
       "      <th></th>\n",
       "      <th>Date</th>\n",
       "      <th>Coal_Price</th>\n",
       "    </tr>\n",
       "  </thead>\n",
       "  <tbody>\n",
       "    <tr>\n",
       "      <th>0</th>\n",
       "      <td>1/2/2014</td>\n",
       "      <td>60.88</td>\n",
       "    </tr>\n",
       "    <tr>\n",
       "      <th>1</th>\n",
       "      <td>1/3/2014</td>\n",
       "      <td>59.94</td>\n",
       "    </tr>\n",
       "    <tr>\n",
       "      <th>2</th>\n",
       "      <td>1/6/2014</td>\n",
       "      <td>60.13</td>\n",
       "    </tr>\n",
       "    <tr>\n",
       "      <th>3</th>\n",
       "      <td>1/7/2014</td>\n",
       "      <td>60.01</td>\n",
       "    </tr>\n",
       "    <tr>\n",
       "      <th>4</th>\n",
       "      <td>1/8/2014</td>\n",
       "      <td>61.75</td>\n",
       "    </tr>\n",
       "  </tbody>\n",
       "</table>\n",
       "</div>"
      ],
      "text/plain": [
       "       Date   Coal_Price\n",
       "0  1/2/2014        60.88\n",
       "1  1/3/2014        59.94\n",
       "2  1/6/2014        60.13\n",
       "3  1/7/2014        60.01\n",
       "4  1/8/2014        61.75"
      ]
     },
     "execution_count": 9,
     "metadata": {},
     "output_type": "execute_result"
    }
   ],
   "source": [
    "Coal.head()"
   ]
  },
  {
   "cell_type": "code",
   "execution_count": 10,
   "id": "7aa39e54-bf71-4144-af6d-553f7aaec5f5",
   "metadata": {},
   "outputs": [
    {
     "data": {
      "text/plain": [
       "Date           1631\n",
       " Coal_Price    1631\n",
       "dtype: int64"
      ]
     },
     "execution_count": 10,
     "metadata": {},
     "output_type": "execute_result"
    }
   ],
   "source": [
    "Coal.count()"
   ]
  },
  {
   "cell_type": "code",
   "execution_count": 11,
   "id": "e09f6c98-caac-41ba-b898-339e5d430612",
   "metadata": {},
   "outputs": [
    {
     "data": {
      "text/html": [
       "<div>\n",
       "<style scoped>\n",
       "    .dataframe tbody tr th:only-of-type {\n",
       "        vertical-align: middle;\n",
       "    }\n",
       "\n",
       "    .dataframe tbody tr th {\n",
       "        vertical-align: top;\n",
       "    }\n",
       "\n",
       "    .dataframe thead th {\n",
       "        text-align: right;\n",
       "    }\n",
       "</style>\n",
       "<table border=\"1\" class=\"dataframe\">\n",
       "  <thead>\n",
       "    <tr style=\"text-align: right;\">\n",
       "      <th></th>\n",
       "      <th>Coal_Price</th>\n",
       "    </tr>\n",
       "  </thead>\n",
       "  <tbody>\n",
       "    <tr>\n",
       "      <th>count</th>\n",
       "      <td>1631.000000</td>\n",
       "    </tr>\n",
       "    <tr>\n",
       "      <th>mean</th>\n",
       "      <td>60.497039</td>\n",
       "    </tr>\n",
       "    <tr>\n",
       "      <th>std</th>\n",
       "      <td>13.554746</td>\n",
       "    </tr>\n",
       "    <tr>\n",
       "      <th>min</th>\n",
       "      <td>33.720000</td>\n",
       "    </tr>\n",
       "    <tr>\n",
       "      <th>25%</th>\n",
       "      <td>50.740000</td>\n",
       "    </tr>\n",
       "    <tr>\n",
       "      <th>50%</th>\n",
       "      <td>55.880000</td>\n",
       "    </tr>\n",
       "    <tr>\n",
       "      <th>75%</th>\n",
       "      <td>72.900000</td>\n",
       "    </tr>\n",
       "    <tr>\n",
       "      <th>max</th>\n",
       "      <td>86.970000</td>\n",
       "    </tr>\n",
       "  </tbody>\n",
       "</table>\n",
       "</div>"
      ],
      "text/plain": [
       "        Coal_Price\n",
       "count  1631.000000\n",
       "mean     60.497039\n",
       "std      13.554746\n",
       "min      33.720000\n",
       "25%      50.740000\n",
       "50%      55.880000\n",
       "75%      72.900000\n",
       "max      86.970000"
      ]
     },
     "execution_count": 11,
     "metadata": {},
     "output_type": "execute_result"
    }
   ],
   "source": [
    "Coal.describe()"
   ]
  },
  {
   "cell_type": "markdown",
   "id": "f3e3d777-3b1e-455d-b878-dbcd34dab762",
   "metadata": {},
   "source": [
    "Capacity"
   ]
  },
  {
   "cell_type": "code",
   "execution_count": 12,
   "id": "8b109492-cbd6-403f-af6c-5270f67e65b3",
   "metadata": {},
   "outputs": [
    {
     "data": {
      "text/html": [
       "<div>\n",
       "<style scoped>\n",
       "    .dataframe tbody tr th:only-of-type {\n",
       "        vertical-align: middle;\n",
       "    }\n",
       "\n",
       "    .dataframe tbody tr th {\n",
       "        vertical-align: top;\n",
       "    }\n",
       "\n",
       "    .dataframe thead th {\n",
       "        text-align: right;\n",
       "    }\n",
       "</style>\n",
       "<table border=\"1\" class=\"dataframe\">\n",
       "  <thead>\n",
       "    <tr style=\"text-align: right;\">\n",
       "      <th></th>\n",
       "      <th>Date</th>\n",
       "      <th>Capacity</th>\n",
       "    </tr>\n",
       "  </thead>\n",
       "  <tbody>\n",
       "    <tr>\n",
       "      <th>0</th>\n",
       "      <td>1/1/2014</td>\n",
       "      <td>69%</td>\n",
       "    </tr>\n",
       "    <tr>\n",
       "      <th>1</th>\n",
       "      <td>1/2/2014</td>\n",
       "      <td>69%</td>\n",
       "    </tr>\n",
       "    <tr>\n",
       "      <th>2</th>\n",
       "      <td>1/3/2014</td>\n",
       "      <td>69%</td>\n",
       "    </tr>\n",
       "    <tr>\n",
       "      <th>3</th>\n",
       "      <td>1/4/2014</td>\n",
       "      <td>69%</td>\n",
       "    </tr>\n",
       "    <tr>\n",
       "      <th>4</th>\n",
       "      <td>1/5/2014</td>\n",
       "      <td>69%</td>\n",
       "    </tr>\n",
       "  </tbody>\n",
       "</table>\n",
       "</div>"
      ],
      "text/plain": [
       "       Date Capacity\n",
       "0  1/1/2014      69%\n",
       "1  1/2/2014      69%\n",
       "2  1/3/2014      69%\n",
       "3  1/4/2014      69%\n",
       "4  1/5/2014      69%"
      ]
     },
     "execution_count": 12,
     "metadata": {},
     "output_type": "execute_result"
    }
   ],
   "source": [
    "Cap.head()"
   ]
  },
  {
   "cell_type": "code",
   "execution_count": 13,
   "id": "27825c49-b43c-4868-9a57-c62e67aaf18e",
   "metadata": {},
   "outputs": [
    {
     "data": {
      "text/plain": [
       "Date        2312\n",
       "Capacity    2312\n",
       "dtype: int64"
      ]
     },
     "execution_count": 13,
     "metadata": {},
     "output_type": "execute_result"
    }
   ],
   "source": [
    "Cap.count()"
   ]
  },
  {
   "cell_type": "code",
   "execution_count": 14,
   "id": "b499bd13-af5b-4c50-9aa5-d758eb93ccfe",
   "metadata": {},
   "outputs": [
    {
     "data": {
      "text/html": [
       "<div>\n",
       "<style scoped>\n",
       "    .dataframe tbody tr th:only-of-type {\n",
       "        vertical-align: middle;\n",
       "    }\n",
       "\n",
       "    .dataframe tbody tr th {\n",
       "        vertical-align: top;\n",
       "    }\n",
       "\n",
       "    .dataframe thead th {\n",
       "        text-align: right;\n",
       "    }\n",
       "</style>\n",
       "<table border=\"1\" class=\"dataframe\">\n",
       "  <thead>\n",
       "    <tr style=\"text-align: right;\">\n",
       "      <th></th>\n",
       "      <th>Date</th>\n",
       "      <th>Capacity</th>\n",
       "    </tr>\n",
       "  </thead>\n",
       "  <tbody>\n",
       "    <tr>\n",
       "      <th>count</th>\n",
       "      <td>2312</td>\n",
       "      <td>2312</td>\n",
       "    </tr>\n",
       "    <tr>\n",
       "      <th>unique</th>\n",
       "      <td>2312</td>\n",
       "      <td>81</td>\n",
       "    </tr>\n",
       "    <tr>\n",
       "      <th>top</th>\n",
       "      <td>1/1/2014</td>\n",
       "      <td>83%</td>\n",
       "    </tr>\n",
       "    <tr>\n",
       "      <th>freq</th>\n",
       "      <td>1</td>\n",
       "      <td>63</td>\n",
       "    </tr>\n",
       "  </tbody>\n",
       "</table>\n",
       "</div>"
      ],
      "text/plain": [
       "            Date Capacity\n",
       "count       2312     2312\n",
       "unique      2312       81\n",
       "top     1/1/2014      83%\n",
       "freq           1       63"
      ]
     },
     "execution_count": 14,
     "metadata": {},
     "output_type": "execute_result"
    }
   ],
   "source": [
    "Cap.describe()"
   ]
  },
  {
   "cell_type": "markdown",
   "id": "1fb1bb84-700c-4392-95cb-4d73dff231bd",
   "metadata": {},
   "source": [
    "TTF"
   ]
  },
  {
   "cell_type": "code",
   "execution_count": 15,
   "id": "11e0b3ed-769a-40b7-bbb3-09098f03fcbd",
   "metadata": {},
   "outputs": [
    {
     "data": {
      "text/html": [
       "<div>\n",
       "<style scoped>\n",
       "    .dataframe tbody tr th:only-of-type {\n",
       "        vertical-align: middle;\n",
       "    }\n",
       "\n",
       "    .dataframe tbody tr th {\n",
       "        vertical-align: top;\n",
       "    }\n",
       "\n",
       "    .dataframe thead th {\n",
       "        text-align: right;\n",
       "    }\n",
       "</style>\n",
       "<table border=\"1\" class=\"dataframe\">\n",
       "  <thead>\n",
       "    <tr style=\"text-align: right;\">\n",
       "      <th></th>\n",
       "      <th>Date</th>\n",
       "      <th>TTF_Price</th>\n",
       "    </tr>\n",
       "  </thead>\n",
       "  <tbody>\n",
       "    <tr>\n",
       "      <th>0</th>\n",
       "      <td>01/01/14</td>\n",
       "      <td>28.225</td>\n",
       "    </tr>\n",
       "    <tr>\n",
       "      <th>1</th>\n",
       "      <td>02/01/14</td>\n",
       "      <td>26.300</td>\n",
       "    </tr>\n",
       "    <tr>\n",
       "      <th>2</th>\n",
       "      <td>03/01/14</td>\n",
       "      <td>26.038</td>\n",
       "    </tr>\n",
       "    <tr>\n",
       "      <th>3</th>\n",
       "      <td>04/01/14</td>\n",
       "      <td>26.750</td>\n",
       "    </tr>\n",
       "    <tr>\n",
       "      <th>4</th>\n",
       "      <td>05/01/14</td>\n",
       "      <td>25.975</td>\n",
       "    </tr>\n",
       "  </tbody>\n",
       "</table>\n",
       "</div>"
      ],
      "text/plain": [
       "       Date  TTF_Price\n",
       "0  01/01/14     28.225\n",
       "1  02/01/14     26.300\n",
       "2  03/01/14     26.038\n",
       "3  04/01/14     26.750\n",
       "4  05/01/14     25.975"
      ]
     },
     "execution_count": 15,
     "metadata": {},
     "output_type": "execute_result"
    }
   ],
   "source": [
    "TTF.head()"
   ]
  },
  {
   "cell_type": "code",
   "execution_count": 16,
   "id": "7d1cc33b-2573-4f16-8873-78154e50d52f",
   "metadata": {},
   "outputs": [
    {
     "data": {
      "text/plain": [
       "Date         2312\n",
       "TTF_Price    2298\n",
       "dtype: int64"
      ]
     },
     "execution_count": 16,
     "metadata": {},
     "output_type": "execute_result"
    }
   ],
   "source": [
    "TTF.count()"
   ]
  },
  {
   "cell_type": "code",
   "execution_count": 17,
   "id": "c40f383a-1817-47b6-9d4f-b4406e512b7c",
   "metadata": {},
   "outputs": [
    {
     "data": {
      "text/html": [
       "<div>\n",
       "<style scoped>\n",
       "    .dataframe tbody tr th:only-of-type {\n",
       "        vertical-align: middle;\n",
       "    }\n",
       "\n",
       "    .dataframe tbody tr th {\n",
       "        vertical-align: top;\n",
       "    }\n",
       "\n",
       "    .dataframe thead th {\n",
       "        text-align: right;\n",
       "    }\n",
       "</style>\n",
       "<table border=\"1\" class=\"dataframe\">\n",
       "  <thead>\n",
       "    <tr style=\"text-align: right;\">\n",
       "      <th></th>\n",
       "      <th>TTF_Price</th>\n",
       "    </tr>\n",
       "  </thead>\n",
       "  <tbody>\n",
       "    <tr>\n",
       "      <th>count</th>\n",
       "      <td>2298.000000</td>\n",
       "    </tr>\n",
       "    <tr>\n",
       "      <th>mean</th>\n",
       "      <td>17.597661</td>\n",
       "    </tr>\n",
       "    <tr>\n",
       "      <th>std</th>\n",
       "      <td>4.929174</td>\n",
       "    </tr>\n",
       "    <tr>\n",
       "      <th>min</th>\n",
       "      <td>5.675000</td>\n",
       "    </tr>\n",
       "    <tr>\n",
       "      <th>25%</th>\n",
       "      <td>14.250000</td>\n",
       "    </tr>\n",
       "    <tr>\n",
       "      <th>50%</th>\n",
       "      <td>17.827500</td>\n",
       "    </tr>\n",
       "    <tr>\n",
       "      <th>75%</th>\n",
       "      <td>21.025000</td>\n",
       "    </tr>\n",
       "    <tr>\n",
       "      <th>max</th>\n",
       "      <td>72.375000</td>\n",
       "    </tr>\n",
       "  </tbody>\n",
       "</table>\n",
       "</div>"
      ],
      "text/plain": [
       "         TTF_Price\n",
       "count  2298.000000\n",
       "mean     17.597661\n",
       "std       4.929174\n",
       "min       5.675000\n",
       "25%      14.250000\n",
       "50%      17.827500\n",
       "75%      21.025000\n",
       "max      72.375000"
      ]
     },
     "execution_count": 17,
     "metadata": {},
     "output_type": "execute_result"
    }
   ],
   "source": [
    "TTF.describe()"
   ]
  },
  {
   "cell_type": "markdown",
   "id": "49250873-3c18-4040-8d4e-0a2e2f7c7acc",
   "metadata": {},
   "source": [
    "Temperature"
   ]
  },
  {
   "cell_type": "code",
   "execution_count": 18,
   "id": "74794bdd-8691-4269-882b-1fdb4071167a",
   "metadata": {},
   "outputs": [
    {
     "data": {
      "text/html": [
       "<div>\n",
       "<style scoped>\n",
       "    .dataframe tbody tr th:only-of-type {\n",
       "        vertical-align: middle;\n",
       "    }\n",
       "\n",
       "    .dataframe tbody tr th {\n",
       "        vertical-align: top;\n",
       "    }\n",
       "\n",
       "    .dataframe thead th {\n",
       "        text-align: right;\n",
       "    }\n",
       "</style>\n",
       "<table border=\"1\" class=\"dataframe\">\n",
       "  <thead>\n",
       "    <tr style=\"text-align: right;\">\n",
       "      <th></th>\n",
       "      <th>Date</th>\n",
       "      <th>Temperature</th>\n",
       "    </tr>\n",
       "  </thead>\n",
       "  <tbody>\n",
       "    <tr>\n",
       "      <th>0</th>\n",
       "      <td>1/1/2014</td>\n",
       "      <td>7.6</td>\n",
       "    </tr>\n",
       "    <tr>\n",
       "      <th>1</th>\n",
       "      <td>1/2/2014</td>\n",
       "      <td>8.8</td>\n",
       "    </tr>\n",
       "    <tr>\n",
       "      <th>2</th>\n",
       "      <td>1/3/2014</td>\n",
       "      <td>9.1</td>\n",
       "    </tr>\n",
       "    <tr>\n",
       "      <th>3</th>\n",
       "      <td>1/4/2014</td>\n",
       "      <td>8.1</td>\n",
       "    </tr>\n",
       "    <tr>\n",
       "      <th>4</th>\n",
       "      <td>1/5/2014</td>\n",
       "      <td>5.8</td>\n",
       "    </tr>\n",
       "  </tbody>\n",
       "</table>\n",
       "</div>"
      ],
      "text/plain": [
       "       Date  Temperature\n",
       "0  1/1/2014          7.6\n",
       "1  1/2/2014          8.8\n",
       "2  1/3/2014          9.1\n",
       "3  1/4/2014          8.1\n",
       "4  1/5/2014          5.8"
      ]
     },
     "execution_count": 18,
     "metadata": {},
     "output_type": "execute_result"
    }
   ],
   "source": [
    "Temp.head()"
   ]
  },
  {
   "cell_type": "code",
   "execution_count": 19,
   "id": "548294f8-9579-40e0-b734-3a167a413baf",
   "metadata": {},
   "outputs": [
    {
     "data": {
      "text/html": [
       "<div>\n",
       "<style scoped>\n",
       "    .dataframe tbody tr th:only-of-type {\n",
       "        vertical-align: middle;\n",
       "    }\n",
       "\n",
       "    .dataframe tbody tr th {\n",
       "        vertical-align: top;\n",
       "    }\n",
       "\n",
       "    .dataframe thead th {\n",
       "        text-align: right;\n",
       "    }\n",
       "</style>\n",
       "<table border=\"1\" class=\"dataframe\">\n",
       "  <thead>\n",
       "    <tr style=\"text-align: right;\">\n",
       "      <th></th>\n",
       "      <th>Temperature</th>\n",
       "    </tr>\n",
       "  </thead>\n",
       "  <tbody>\n",
       "    <tr>\n",
       "      <th>count</th>\n",
       "      <td>2312.000000</td>\n",
       "    </tr>\n",
       "    <tr>\n",
       "      <th>mean</th>\n",
       "      <td>10.334645</td>\n",
       "    </tr>\n",
       "    <tr>\n",
       "      <th>std</th>\n",
       "      <td>30.395179</td>\n",
       "    </tr>\n",
       "    <tr>\n",
       "      <th>min</th>\n",
       "      <td>-999.900000</td>\n",
       "    </tr>\n",
       "    <tr>\n",
       "      <th>25%</th>\n",
       "      <td>6.300000</td>\n",
       "    </tr>\n",
       "    <tr>\n",
       "      <th>50%</th>\n",
       "      <td>11.000000</td>\n",
       "    </tr>\n",
       "    <tr>\n",
       "      <th>75%</th>\n",
       "      <td>16.025000</td>\n",
       "    </tr>\n",
       "    <tr>\n",
       "      <th>max</th>\n",
       "      <td>31.200000</td>\n",
       "    </tr>\n",
       "  </tbody>\n",
       "</table>\n",
       "</div>"
      ],
      "text/plain": [
       "       Temperature\n",
       "count  2312.000000\n",
       "mean     10.334645\n",
       "std      30.395179\n",
       "min    -999.900000\n",
       "25%       6.300000\n",
       "50%      11.000000\n",
       "75%      16.025000\n",
       "max      31.200000"
      ]
     },
     "execution_count": 19,
     "metadata": {},
     "output_type": "execute_result"
    }
   ],
   "source": [
    "Temp.describe()"
   ]
  },
  {
   "cell_type": "code",
   "execution_count": 20,
   "id": "7b1aadb5-7967-4173-8837-b9f4e6347c79",
   "metadata": {},
   "outputs": [
    {
     "data": {
      "text/plain": [
       "Date           2312\n",
       "Temperature    2312\n",
       "dtype: int64"
      ]
     },
     "execution_count": 20,
     "metadata": {},
     "output_type": "execute_result"
    }
   ],
   "source": [
    "Temp.count()"
   ]
  },
  {
   "cell_type": "code",
   "execution_count": 21,
   "id": "8416359a-8700-45bb-83d2-205839558bc0",
   "metadata": {},
   "outputs": [],
   "source": [
    "#convert Capacity from % to decimals\n",
    "Cap['decimal'] = Cap['Capacity'].apply(lambda x: float(x.strip('%')) / 100)\n",
    "Cap = Cap.drop('Capacity',axis=1)\n",
    "Cap = Cap.rename(columns={'decimal': 'Capacity'})"
   ]
  },
  {
   "cell_type": "code",
   "execution_count": 22,
   "id": "6345a465-306b-4470-9809-98734d547c5b",
   "metadata": {},
   "outputs": [],
   "source": [
    "Coal = Coal.rename(columns={' Coal_Price': 'Coal_Price'})\n",
    "#convert dfs to time series by setting date as an index\n",
    "TTFts = TTF.set_index(\"Date\")\n",
    "Capts = Cap.set_index(\"Date\")\n",
    "Tempts = Temp.set_index(\"Date\")\n",
    "Brentts = Brent.set_index(\"Date\")\n",
    "Coalts = Coal.set_index(\"Date\")"
   ]
  },
  {
   "cell_type": "code",
   "execution_count": 23,
   "id": "8dae7cb9-2dda-4c53-978f-17c9cf96ec7f",
   "metadata": {},
   "outputs": [],
   "source": [
    "#convert all indexes to datetime objects(all indexes need to be in the same format in order to merge)\n",
    "\n",
    "TTFts.index = pd.to_datetime(TTFts.index,dayfirst=True)\n",
    "Tempts.index = pd.to_datetime(Tempts.index)\n",
    "Capts.index = pd.to_datetime(Capts.index)\n",
    "Brentts.index = pd.to_datetime(Brentts.index)\n",
    "Coalts.index = pd.to_datetime(Coalts.index)"
   ]
  },
  {
   "cell_type": "code",
   "execution_count": 24,
   "id": "3f97c86e-7e05-4b90-9090-fa3e9da87894",
   "metadata": {},
   "outputs": [],
   "source": [
    "# Resample and fill the missing values of Brent\n",
    "Brentts = Brentts.resample('D').mean()\n",
    "Brentts = Brentts.ffill()"
   ]
  },
  {
   "cell_type": "code",
   "execution_count": 25,
   "id": "192d49db-bb75-4fa6-95ce-f890289938bb",
   "metadata": {},
   "outputs": [],
   "source": [
    "# Resample and fill the missing values of Coal\n",
    "Coalts = Coalts.resample('D').mean()\n",
    "Coalts = Coalts.ffill()"
   ]
  },
  {
   "cell_type": "code",
   "execution_count": 26,
   "id": "71bab71b-a449-4eb5-bd2a-1c43b3887e72",
   "metadata": {},
   "outputs": [],
   "source": [
    "#replace -999 temperature data entry error with the average\n",
    "avg_temperature=Tempts['Temperature'].mean()\n",
    "for i in range(len(Tempts)):\n",
    "               if Tempts.iloc[i,0]<-900:\n",
    "                   Tempts.iloc[i,0]=avg_temperature"
   ]
  },
  {
   "cell_type": "markdown",
   "id": "0f61c8e7-daa7-429f-a2e4-29d24b9cf53d",
   "metadata": {},
   "source": [
    "# Part 4 - Merge Dataframes"
   ]
  },
  {
   "cell_type": "code",
   "execution_count": 27,
   "id": "d239c4e8-4ac6-493e-8bce-4ca9f1f46d50",
   "metadata": {},
   "outputs": [],
   "source": [
    "df = pd.merge(TTFts, Tempts, left_index=True,right_index=True).merge(Capts, left_index=True, right_index=True).merge(Coalts, left_index=True,right_index=True).merge(Brentts, left_index=True,right_index=True)\n",
    "#drop NAs\n",
    "df = df.dropna()"
   ]
  },
  {
   "cell_type": "code",
   "execution_count": 28,
   "id": "01fb4083-f516-40ea-bf9f-548e235cad93",
   "metadata": {},
   "outputs": [
    {
     "data": {
      "text/html": [
       "<div>\n",
       "<style scoped>\n",
       "    .dataframe tbody tr th:only-of-type {\n",
       "        vertical-align: middle;\n",
       "    }\n",
       "\n",
       "    .dataframe tbody tr th {\n",
       "        vertical-align: top;\n",
       "    }\n",
       "\n",
       "    .dataframe thead th {\n",
       "        text-align: right;\n",
       "    }\n",
       "</style>\n",
       "<table border=\"1\" class=\"dataframe\">\n",
       "  <thead>\n",
       "    <tr style=\"text-align: right;\">\n",
       "      <th></th>\n",
       "      <th>TTF_Price</th>\n",
       "      <th>Temperature</th>\n",
       "      <th>Capacity</th>\n",
       "      <th>Coal_Price</th>\n",
       "      <th>Brent_Price</th>\n",
       "    </tr>\n",
       "    <tr>\n",
       "      <th>Date</th>\n",
       "      <th></th>\n",
       "      <th></th>\n",
       "      <th></th>\n",
       "      <th></th>\n",
       "      <th></th>\n",
       "    </tr>\n",
       "  </thead>\n",
       "  <tbody>\n",
       "    <tr>\n",
       "      <th>2014-01-02</th>\n",
       "      <td>26.300</td>\n",
       "      <td>8.8</td>\n",
       "      <td>0.69</td>\n",
       "      <td>60.88</td>\n",
       "      <td>81.38</td>\n",
       "    </tr>\n",
       "    <tr>\n",
       "      <th>2014-01-03</th>\n",
       "      <td>26.038</td>\n",
       "      <td>9.1</td>\n",
       "      <td>0.69</td>\n",
       "      <td>59.94</td>\n",
       "      <td>80.35</td>\n",
       "    </tr>\n",
       "    <tr>\n",
       "      <th>2014-01-04</th>\n",
       "      <td>26.750</td>\n",
       "      <td>8.1</td>\n",
       "      <td>0.69</td>\n",
       "      <td>59.94</td>\n",
       "      <td>80.35</td>\n",
       "    </tr>\n",
       "    <tr>\n",
       "      <th>2014-01-05</th>\n",
       "      <td>25.975</td>\n",
       "      <td>5.8</td>\n",
       "      <td>0.69</td>\n",
       "      <td>59.94</td>\n",
       "      <td>80.35</td>\n",
       "    </tr>\n",
       "    <tr>\n",
       "      <th>2014-01-06</th>\n",
       "      <td>26.550</td>\n",
       "      <td>11.4</td>\n",
       "      <td>0.69</td>\n",
       "      <td>60.13</td>\n",
       "      <td>80.45</td>\n",
       "    </tr>\n",
       "  </tbody>\n",
       "</table>\n",
       "</div>"
      ],
      "text/plain": [
       "            TTF_Price  Temperature  Capacity  Coal_Price  Brent_Price\n",
       "Date                                                                 \n",
       "2014-01-02     26.300          8.8      0.69       60.88        81.38\n",
       "2014-01-03     26.038          9.1      0.69       59.94        80.35\n",
       "2014-01-04     26.750          8.1      0.69       59.94        80.35\n",
       "2014-01-05     25.975          5.8      0.69       59.94        80.35\n",
       "2014-01-06     26.550         11.4      0.69       60.13        80.45"
      ]
     },
     "execution_count": 28,
     "metadata": {},
     "output_type": "execute_result"
    }
   ],
   "source": [
    "df.head()"
   ]
  },
  {
   "cell_type": "code",
   "execution_count": 29,
   "id": "be67e315-01f2-4817-a38d-b36ed09d22cb",
   "metadata": {},
   "outputs": [
    {
     "data": {
      "text/html": [
       "<div>\n",
       "<style scoped>\n",
       "    .dataframe tbody tr th:only-of-type {\n",
       "        vertical-align: middle;\n",
       "    }\n",
       "\n",
       "    .dataframe tbody tr th {\n",
       "        vertical-align: top;\n",
       "    }\n",
       "\n",
       "    .dataframe thead th {\n",
       "        text-align: right;\n",
       "    }\n",
       "</style>\n",
       "<table border=\"1\" class=\"dataframe\">\n",
       "  <thead>\n",
       "    <tr style=\"text-align: right;\">\n",
       "      <th></th>\n",
       "      <th>TTF_Price</th>\n",
       "      <th>Temperature</th>\n",
       "      <th>Capacity</th>\n",
       "      <th>Coal_Price</th>\n",
       "      <th>Brent_Price</th>\n",
       "    </tr>\n",
       "    <tr>\n",
       "      <th>Date</th>\n",
       "      <th></th>\n",
       "      <th></th>\n",
       "      <th></th>\n",
       "      <th></th>\n",
       "      <th></th>\n",
       "    </tr>\n",
       "  </thead>\n",
       "  <tbody>\n",
       "    <tr>\n",
       "      <th>2020-04-25</th>\n",
       "      <td>5.808</td>\n",
       "      <td>10.5</td>\n",
       "      <td>0.61</td>\n",
       "      <td>36.04</td>\n",
       "      <td>30.50</td>\n",
       "    </tr>\n",
       "    <tr>\n",
       "      <th>2020-04-26</th>\n",
       "      <td>5.800</td>\n",
       "      <td>10.6</td>\n",
       "      <td>0.61</td>\n",
       "      <td>36.04</td>\n",
       "      <td>30.50</td>\n",
       "    </tr>\n",
       "    <tr>\n",
       "      <th>2020-04-27</th>\n",
       "      <td>5.925</td>\n",
       "      <td>13.8</td>\n",
       "      <td>0.62</td>\n",
       "      <td>34.29</td>\n",
       "      <td>29.64</td>\n",
       "    </tr>\n",
       "    <tr>\n",
       "      <th>2020-04-28</th>\n",
       "      <td>6.025</td>\n",
       "      <td>11.8</td>\n",
       "      <td>0.62</td>\n",
       "      <td>33.72</td>\n",
       "      <td>29.77</td>\n",
       "    </tr>\n",
       "    <tr>\n",
       "      <th>2020-04-29</th>\n",
       "      <td>5.875</td>\n",
       "      <td>12.7</td>\n",
       "      <td>0.62</td>\n",
       "      <td>34.20</td>\n",
       "      <td>28.70</td>\n",
       "    </tr>\n",
       "  </tbody>\n",
       "</table>\n",
       "</div>"
      ],
      "text/plain": [
       "            TTF_Price  Temperature  Capacity  Coal_Price  Brent_Price\n",
       "Date                                                                 \n",
       "2020-04-25      5.808         10.5      0.61       36.04        30.50\n",
       "2020-04-26      5.800         10.6      0.61       36.04        30.50\n",
       "2020-04-27      5.925         13.8      0.62       34.29        29.64\n",
       "2020-04-28      6.025         11.8      0.62       33.72        29.77\n",
       "2020-04-29      5.875         12.7      0.62       34.20        28.70"
      ]
     },
     "execution_count": 29,
     "metadata": {},
     "output_type": "execute_result"
    }
   ],
   "source": [
    "df.tail()"
   ]
  },
  {
   "cell_type": "code",
   "execution_count": 30,
   "id": "00db192e-d2ce-44c0-9812-c4dfda15f520",
   "metadata": {},
   "outputs": [
    {
     "data": {
      "text/plain": [
       "TTF_Price      2297\n",
       "Temperature    2297\n",
       "Capacity       2297\n",
       "Coal_Price     2297\n",
       "Brent_Price    2297\n",
       "dtype: int64"
      ]
     },
     "execution_count": 30,
     "metadata": {},
     "output_type": "execute_result"
    }
   ],
   "source": [
    "df.count()"
   ]
  },
  {
   "cell_type": "code",
   "execution_count": 31,
   "id": "8679922c-3aa8-455c-8133-a11d53d37a28",
   "metadata": {},
   "outputs": [
    {
     "data": {
      "text/html": [
       "<div>\n",
       "<style scoped>\n",
       "    .dataframe tbody tr th:only-of-type {\n",
       "        vertical-align: middle;\n",
       "    }\n",
       "\n",
       "    .dataframe tbody tr th {\n",
       "        vertical-align: top;\n",
       "    }\n",
       "\n",
       "    .dataframe thead th {\n",
       "        text-align: right;\n",
       "    }\n",
       "</style>\n",
       "<table border=\"1\" class=\"dataframe\">\n",
       "  <thead>\n",
       "    <tr style=\"text-align: right;\">\n",
       "      <th></th>\n",
       "      <th>TTF_Price</th>\n",
       "      <th>Temperature</th>\n",
       "      <th>Capacity</th>\n",
       "      <th>Coal_Price</th>\n",
       "      <th>Brent_Price</th>\n",
       "    </tr>\n",
       "    <tr>\n",
       "      <th>Date</th>\n",
       "      <th></th>\n",
       "      <th></th>\n",
       "      <th></th>\n",
       "      <th></th>\n",
       "      <th></th>\n",
       "    </tr>\n",
       "  </thead>\n",
       "  <tbody>\n",
       "    <tr>\n",
       "      <th>2020-04-25</th>\n",
       "      <td>5.808</td>\n",
       "      <td>10.5</td>\n",
       "      <td>0.61</td>\n",
       "      <td>36.04</td>\n",
       "      <td>30.50</td>\n",
       "    </tr>\n",
       "    <tr>\n",
       "      <th>2020-04-26</th>\n",
       "      <td>5.800</td>\n",
       "      <td>10.6</td>\n",
       "      <td>0.61</td>\n",
       "      <td>36.04</td>\n",
       "      <td>30.50</td>\n",
       "    </tr>\n",
       "    <tr>\n",
       "      <th>2020-04-27</th>\n",
       "      <td>5.925</td>\n",
       "      <td>13.8</td>\n",
       "      <td>0.62</td>\n",
       "      <td>34.29</td>\n",
       "      <td>29.64</td>\n",
       "    </tr>\n",
       "    <tr>\n",
       "      <th>2020-04-28</th>\n",
       "      <td>6.025</td>\n",
       "      <td>11.8</td>\n",
       "      <td>0.62</td>\n",
       "      <td>33.72</td>\n",
       "      <td>29.77</td>\n",
       "    </tr>\n",
       "    <tr>\n",
       "      <th>2020-04-29</th>\n",
       "      <td>5.875</td>\n",
       "      <td>12.7</td>\n",
       "      <td>0.62</td>\n",
       "      <td>34.20</td>\n",
       "      <td>28.70</td>\n",
       "    </tr>\n",
       "  </tbody>\n",
       "</table>\n",
       "</div>"
      ],
      "text/plain": [
       "            TTF_Price  Temperature  Capacity  Coal_Price  Brent_Price\n",
       "Date                                                                 \n",
       "2020-04-25      5.808         10.5      0.61       36.04        30.50\n",
       "2020-04-26      5.800         10.6      0.61       36.04        30.50\n",
       "2020-04-27      5.925         13.8      0.62       34.29        29.64\n",
       "2020-04-28      6.025         11.8      0.62       33.72        29.77\n",
       "2020-04-29      5.875         12.7      0.62       34.20        28.70"
      ]
     },
     "execution_count": 31,
     "metadata": {},
     "output_type": "execute_result"
    }
   ],
   "source": [
    "df.tail()"
   ]
  },
  {
   "cell_type": "markdown",
   "id": "4f5711e4-872c-4f9b-a742-141215a42d7f",
   "metadata": {},
   "source": [
    "# Part 5 - Creating Plots"
   ]
  },
  {
   "cell_type": "markdown",
   "id": "05554448-c1f1-4531-8c0f-8959dc6102eb",
   "metadata": {},
   "source": [
    "TTF Price Plot"
   ]
  },
  {
   "cell_type": "code",
   "execution_count": 32,
   "id": "4e343ca9-807c-409c-9519-7e3038994338",
   "metadata": {},
   "outputs": [
    {
     "data": {
      "text/plain": [
       "Text(0, 0.5, 'TTF Price')"
      ]
     },
     "execution_count": 32,
     "metadata": {},
     "output_type": "execute_result"
    },
    {
     "data": {
      "image/png": "[encoded data removed]",
      "text/plain": [
       "<Figure size 432x288 with 1 Axes>"
      ]
     },
     "metadata": {
      "needs_background": "light"
     },
     "output_type": "display_data"
    }
   ],
   "source": [
    "plt.plot(df.index, df.TTF_Price)\n",
    "plt.xlabel('Date')\n",
    "plt.ylabel('TTF Price')"
   ]
  },
  {
   "cell_type": "markdown",
   "id": "c9047e06-fc7a-4892-9457-280ff3e9c9f1",
   "metadata": {},
   "source": [
    "Western Europe Temperature Plot"
   ]
  },
  {
   "cell_type": "code",
   "execution_count": 33,
   "id": "0608d9cd-fcc5-4819-bea2-7c5d59188aed",
   "metadata": {},
   "outputs": [
    {
     "data": {
      "text/plain": [
       "Text(0, 0.5, 'Temperature')"
      ]
     },
     "execution_count": 33,
     "metadata": {},
     "output_type": "execute_result"
    },
    {
     "data": {
      "image/png": "[encoded data removed]",
      "text/plain": [
       "<Figure size 432x288 with 1 Axes>"
      ]
     },
     "metadata": {
      "needs_background": "light"
     },
     "output_type": "display_data"
    }
   ],
   "source": [
    "plt.plot(df.index, df.Temperature)\n",
    "plt.xlabel('Date')\n",
    "plt.ylabel('Temperature')"
   ]
  },
  {
   "cell_type": "markdown",
   "id": "9ebdda0e-11b9-4423-8d9b-c46b048e0107",
   "metadata": {},
   "source": [
    "Natural Gas Storage Capacity Plot"
   ]
  },
  {
   "cell_type": "code",
   "execution_count": 34,
   "id": "3e368fbb-4eae-4def-bcbd-e87be270edc7",
   "metadata": {},
   "outputs": [
    {
     "data": {
      "text/plain": [
       "Text(0, 0.5, 'Capacity')"
      ]
     },
     "execution_count": 34,
     "metadata": {},
     "output_type": "execute_result"
    },
    {
     "data": {
      "image/png": "[encoded data removed]",
      "text/plain": [
       "<Figure size 432x288 with 1 Axes>"
      ]
     },
     "metadata": {
      "needs_background": "light"
     },
     "output_type": "display_data"
    }
   ],
   "source": [
    "plt.plot(df.index, df.Capacity)\n",
    "plt.xlabel('Date')\n",
    "plt.ylabel('Capacity')"
   ]
  },
  {
   "cell_type": "markdown",
   "id": "9dd08679-dbb6-478b-a2cf-12de2032e14a",
   "metadata": {},
   "source": [
    "Coal Price Plot"
   ]
  },
  {
   "cell_type": "code",
   "execution_count": 35,
   "id": "059da86f-c5e9-4a62-a9ee-2479ef46bb7f",
   "metadata": {},
   "outputs": [
    {
     "data": {
      "text/plain": [
       "Text(0, 0.5, 'Coal Price')"
      ]
     },
     "execution_count": 35,
     "metadata": {},
     "output_type": "execute_result"
    },
    {
     "data": {
      "image/png": "[encoded data removed]",
      "text/plain": [
       "<Figure size 432x288 with 1 Axes>"
      ]
     },
     "metadata": {
      "needs_background": "light"
     },
     "output_type": "display_data"
    }
   ],
   "source": [
    "plt.plot(df.index, df. Coal_Price)\n",
    "plt.xlabel('Date')\n",
    "plt.ylabel('Coal Price')"
   ]
  },
  {
   "cell_type": "markdown",
   "id": "6f922501-571f-4267-ac61-a1c141bb1322",
   "metadata": {},
   "source": [
    "Brent Oil Price Plot"
   ]
  },
  {
   "cell_type": "code",
   "execution_count": 36,
   "id": "54832836-b28e-4729-b7fb-7e1bdd4cd389",
   "metadata": {},
   "outputs": [
    {
     "data": {
      "text/plain": [
       "Text(0, 0.5, 'Brent Price')"
      ]
     },
     "execution_count": 36,
     "metadata": {},
     "output_type": "execute_result"
    },
    {
     "data": {
      "image/png": "[encoded data removed]",
      "text/plain": [
       "<Figure size 432x288 with 1 Axes>"
      ]
     },
     "metadata": {
      "needs_background": "light"
     },
     "output_type": "display_data"
    }
   ],
   "source": [
    "plt.plot(df.index, df.Brent_Price)\n",
    "plt.xlabel('Date')\n",
    "plt.ylabel('Brent Price')"
   ]
  },
  {
   "cell_type": "markdown",
   "id": "16d920b8-3ff2-40e5-b415-d51adaac3a59",
   "metadata": {},
   "source": [
    "# Part 6 - Descriptive Statistics"
   ]
  },
  {
   "cell_type": "markdown",
   "id": "42b0e6f4-fc85-4f41-92de-3fccb240774b",
   "metadata": {},
   "source": [
    "Basic Stats"
   ]
  },
  {
   "cell_type": "code",
   "execution_count": 37,
   "id": "ac6ab09c-009e-4753-8d76-708f5d9441dd",
   "metadata": {},
   "outputs": [
    {
     "name": "stdout",
     "output_type": "stream",
     "text": [
      "         TTF_Price  Temperature     Capacity   Coal_Price  Brent_Price\n",
      "count  2297.000000  2297.000000  2297.000000  2297.000000  2297.000000\n",
      "mean     17.593034    11.203818     0.626369    60.527344    53.221824\n",
      "std       4.925254     6.330138     0.207828    13.556858    14.219853\n",
      "min       5.675000    -5.500000     0.180000    33.720000     8.000000\n",
      "25%      14.250000     6.200000     0.470000    50.740000    43.950000\n",
      "50%      17.825000    11.000000     0.630000    55.950000    52.880000\n",
      "75%      21.025000    16.100000     0.820000    72.940000    60.310000\n",
      "max      72.375000    31.200000     0.980000    86.970000    86.850000\n"
     ]
    }
   ],
   "source": [
    "stats = df.describe()\n",
    "print(stats)"
   ]
  },
  {
   "cell_type": "markdown",
   "id": "29de9096-b26d-438a-aded-c479354d7df9",
   "metadata": {},
   "source": [
    "Median"
   ]
  },
  {
   "cell_type": "code",
   "execution_count": 38,
   "id": "fa7995a7-927c-42eb-a62d-f891ec70d352",
   "metadata": {},
   "outputs": [
    {
     "name": "stdout",
     "output_type": "stream",
     "text": [
      "Median: TTF_Price      17.825\n",
      "Temperature    11.000\n",
      "Capacity        0.630\n",
      "Coal_Price     55.950\n",
      "Brent_Price    52.880\n",
      "dtype: float64\n"
     ]
    }
   ],
   "source": [
    "median = df.median()\n",
    "print(\"Median:\", median)"
   ]
  },
  {
   "cell_type": "markdown",
   "id": "da3443e6-4a6a-44f3-860d-e734491f9439",
   "metadata": {},
   "source": [
    "Variance"
   ]
  },
  {
   "cell_type": "code",
   "execution_count": 39,
   "id": "2d3f9e85-381f-4ad3-b8d9-2567f9868701",
   "metadata": {},
   "outputs": [
    {
     "name": "stdout",
     "output_type": "stream",
     "text": [
      "Variance: TTF_Price       24.247564\n",
      "Temperature     40.053206\n",
      "Capacity         0.043173\n",
      "Coal_Price     183.708373\n",
      "Brent_Price    202.116200\n",
      "dtype: float64\n"
     ]
    }
   ],
   "source": [
    "# Calculate the variance\n",
    "variance = np.var(df)\n",
    "\n",
    "# Print the result\n",
    "print(\"Variance:\", variance)"
   ]
  },
  {
   "cell_type": "markdown",
   "id": "8057cd9a-9339-4c3d-96ed-19063ca8342c",
   "metadata": {},
   "source": [
    "Kurtosis"
   ]
  },
  {
   "cell_type": "code",
   "execution_count": 40,
   "id": "54d18c96-2f65-4104-a250-4f38926410fe",
   "metadata": {},
   "outputs": [
    {
     "name": "stdout",
     "output_type": "stream",
     "text": [
      "Kurtosis: [ 7.20506869 -0.6089243  -1.04457683 -1.1092589   0.22951845]\n"
     ]
    }
   ],
   "source": [
    "kurt = kurtosis(df)\n",
    "print(\"Kurtosis:\", kurt)\n",
    "# a measure of whether the data are heavy-tailed or light-tailed relative to a normal distribution"
   ]
  },
  {
   "cell_type": "markdown",
   "id": "0db64ac1-a52d-4c86-86d2-b9cc8df259e0",
   "metadata": {},
   "source": [
    "Skewness"
   ]
  },
  {
   "cell_type": "code",
   "execution_count": 41,
   "id": "02b59afd-1f76-44bd-8b41-3b8f8c186f4d",
   "metadata": {},
   "outputs": [
    {
     "name": "stdout",
     "output_type": "stream",
     "text": [
      "Skewness: TTF_Price      0.697489\n",
      "Temperature    0.094835\n",
      "Capacity      -0.189532\n",
      "Coal_Price     0.343986\n",
      "Brent_Price    0.168428\n",
      "dtype: float64\n"
     ]
    }
   ],
   "source": [
    "print(\"Skewness:\", df.skew())\n",
    "# a measurement of the distortion of symmetrical distribution or asymmetry in a data set."
   ]
  },
  {
   "cell_type": "markdown",
   "id": "73ae799f-d3b6-470a-8ea8-c818a1b13b48",
   "metadata": {},
   "source": [
    "Correlation Matrix"
   ]
  },
  {
   "cell_type": "code",
   "execution_count": 42,
   "id": "2c907e86-b366-4762-9562-6cefc66552d9",
   "metadata": {},
   "outputs": [
    {
     "name": "stdout",
     "output_type": "stream",
     "text": [
      "             TTF_Price  Temperature  Capacity  Coal_Price  Brent_Price\n",
      "TTF_Price     1.000000    -0.182388 -0.119519    0.542994     0.476108\n",
      "Temperature  -0.182388     1.000000  0.102892   -0.013909     0.142245\n",
      "Capacity     -0.119519     0.102892  1.000000   -0.007307     0.021345\n",
      "Coal_Price    0.542994    -0.013909 -0.007307    1.000000     0.307382\n",
      "Brent_Price   0.476108     0.142245  0.021345    0.307382     1.000000\n"
     ]
    }
   ],
   "source": [
    "correlation_matrix = df.corr()\n",
    "print(correlation_matrix)"
   ]
  },
  {
   "cell_type": "markdown",
   "id": "a310e2e0-20ac-4b24-b683-7d55c0e43afb",
   "metadata": {},
   "source": [
    "Correlation Heatmap"
   ]
  },
  {
   "cell_type": "code",
   "execution_count": 43,
   "id": "55c30bb8-c6ba-438c-adc0-b80944c503af",
   "metadata": {},
   "outputs": [
    {
     "data": {
      "text/plain": [
       "<AxesSubplot:>"
      ]
     },
     "execution_count": 43,
     "metadata": {},
     "output_type": "execute_result"
    },
    {
     "data": {
      "image/png": "[encoded data removed]",
      "text/plain": [
       "<Figure size 432x288 with 2 Axes>"
      ]
     },
     "metadata": {
      "needs_background": "light"
     },
     "output_type": "display_data"
    }
   ],
   "source": [
    "sns.heatmap(df.corr(), cmap ='Blues')"
   ]
  },
  {
   "cell_type": "markdown",
   "id": "5b5b626a-d523-446b-8d3d-ac3f0615823c",
   "metadata": {},
   "source": [
    "Autocorrelation"
   ]
  },
  {
   "cell_type": "code",
   "execution_count": 44,
   "id": "000cf013-f1fb-4e7c-9b4f-2a8ab06e6d69",
   "metadata": {},
   "outputs": [
    {
     "name": "stdout",
     "output_type": "stream",
     "text": [
      "Autocorrelation: 1.0 0.9796374965683383 0.9516375287369354 0.9295237947418986 0.9154863659543945 0.9062616384823889 0.8991329667550165 0.8929190467428864 0.8882678502020176 0.8842898075737974 0.8810879782639693 0.8807104582998724 0.8809383493553252 0.8781981576480716 0.8743303058143558 0.8701012142154967 0.8668102889808822 0.8651077432554685 0.8613976792242146 0.8564384743189795 0.852120468890634\n"
     ]
    }
   ],
   "source": [
    "acf0 = df['TTF_Price'].autocorr(lag=0)\n",
    "acf1 = df['TTF_Price'].autocorr(lag=1)\n",
    "acf2 = df['TTF_Price'].autocorr(lag=2)\n",
    "acf3 = df['TTF_Price'].autocorr(lag=3)\n",
    "acf4 = df['TTF_Price'].autocorr(lag=4)\n",
    "acf5 = df['TTF_Price'].autocorr(lag=5)\n",
    "acf6 = df['TTF_Price'].autocorr(lag=6)\n",
    "acf7 = df['TTF_Price'].autocorr(lag=7)\n",
    "acf8 = df['TTF_Price'].autocorr(lag=8)\n",
    "acf9 = df['TTF_Price'].autocorr(lag=9)\n",
    "acf10 = df['TTF_Price'].autocorr(lag=10)\n",
    "acf11 = df['TTF_Price'].autocorr(lag=11)\n",
    "acf12 = df['TTF_Price'].autocorr(lag=12)\n",
    "acf13 = df['TTF_Price'].autocorr(lag=13)\n",
    "acf14 = df['TTF_Price'].autocorr(lag=14)\n",
    "acf15 = df['TTF_Price'].autocorr(lag=15)\n",
    "acf16 = df['TTF_Price'].autocorr(lag=16)\n",
    "acf17 = df['TTF_Price'].autocorr(lag=17)\n",
    "acf18 = df['TTF_Price'].autocorr(lag=18)\n",
    "acf19 = df['TTF_Price'].autocorr(lag=19)\n",
    "acf20 = df['TTF_Price'].autocorr(lag=20)\n",
    "# print the autocorrelation value\n",
    "print('Autocorrelation:', acf0, acf1, acf2, acf3, acf4, acf5, acf6, acf7, acf8, acf9, acf10, acf11, acf12, acf13, acf14, acf15, acf16, acf17, acf18, acf19, acf20)"
   ]
  },
  {
   "cell_type": "markdown",
   "id": "e87012ea-8da8-4786-952a-4d62a28c706f",
   "metadata": {},
   "source": [
    "Autocorrelation Plot"
   ]
  },
  {
   "cell_type": "code",
   "execution_count": 45,
   "id": "7256a1b1-22ff-4fc1-b7e6-32c7ef575ce5",
   "metadata": {},
   "outputs": [
    {
     "data": {
      "image/png": "[encoded data removed]",
      "text/plain": [
       "<Figure size 432x288 with 1 Axes>"
      ]
     },
     "execution_count": 45,
     "metadata": {},
     "output_type": "execute_result"
    },
    {
     "data": {
      "image/png": "[encoded data removed]",
      "text/plain": [
       "<Figure size 432x288 with 1 Axes>"
      ]
     },
     "metadata": {
      "needs_background": "light"
     },
     "output_type": "display_data"
    }
   ],
   "source": [
    "plot_acf(df['TTF_Price'], lags=20)"
   ]
  },
  {
   "cell_type": "markdown",
   "id": "3c4d8f82-5f23-48d7-9d52-328ecfefdaff",
   "metadata": {},
   "source": [
    "Partial Autocorrelation"
   ]
  },
  {
   "cell_type": "code",
   "execution_count": 46,
   "id": "3f7f22d4-ce5f-497d-95bf-567654acf4ec",
   "metadata": {},
   "outputs": [
    {
     "name": "stdout",
     "output_type": "stream",
     "text": [
      "Partial Autocorrelation: [ 1.          0.98017979 -0.1976493   0.17523922  0.1327116   0.07690726\n",
      "  0.0675203   0.05997655  0.07869122  0.04210064  0.06034579  0.11082733\n",
      "  0.03337429 -0.02010845  0.05088113  0.01345758  0.03779743  0.04755227\n",
      " -0.04298623  0.01610245  0.02542429]\n"
     ]
    }
   ],
   "source": [
    "# calculate partial autocorrelation of a specific column in the dataframe\n",
    "pacf = sm.tsa.stattools.pacf(df['TTF_Price'], nlags=20, method='ols')\n",
    "\n",
    "# print the partial autocorrelation values\n",
    "print('Partial Autocorrelation:', pacf)"
   ]
  },
  {
   "cell_type": "markdown",
   "id": "6f897a4d-6826-4847-8ec9-dc4ef943f942",
   "metadata": {},
   "source": [
    "Partial Autocorrelation Plot"
   ]
  },
  {
   "cell_type": "code",
   "execution_count": 47,
   "id": "a2db3cfc-6d4f-46d8-b2b4-c070906b62d8",
   "metadata": {},
   "outputs": [
    {
     "data": {
      "image/png": "[encoded data removed]",
      "text/plain": [
       "<Figure size 432x288 with 1 Axes>"
      ]
     },
     "execution_count": 47,
     "metadata": {},
     "output_type": "execute_result"
    },
    {
     "data": {
      "image/png": "[encoded data removed]",
      "text/plain": [
       "<Figure size 432x288 with 1 Axes>"
      ]
     },
     "metadata": {
      "needs_background": "light"
     },
     "output_type": "display_data"
    }
   ],
   "source": [
    "plot_pacf(df['TTF_Price'], lags=20)"
   ]
  },
  {
   "cell_type": "markdown",
   "id": "1045dd97-179d-4ee2-a1ca-ca34d8edd6c6",
   "metadata": {},
   "source": [
    "# Part 7 - Train-Test Split"
   ]
  },
  {
   "cell_type": "code",
   "execution_count": 48,
   "id": "7453b75b-c230-4c11-ad96-8341d0e6c437",
   "metadata": {},
   "outputs": [],
   "source": [
    "df = df.reset_index()"
   ]
  },
  {
   "cell_type": "code",
   "execution_count": 49,
   "id": "859957d7-0030-420a-a120-0d2e654bc0cc",
   "metadata": {},
   "outputs": [],
   "source": [
    "#split dataset into dependent variable and regressors\n",
    "Dependent = df.loc[:,['Date','TTF_Price']]\n",
    "Regressors = df.loc[:,['Date','Temperature','Capacity','Brent_Price','Coal_Price']]"
   ]
  },
  {
   "cell_type": "code",
   "execution_count": 50,
   "id": "b1e7fc31-1524-428b-a11e-d515b361f306",
   "metadata": {},
   "outputs": [],
   "source": [
    "#80%\n",
    "Dependent_train = Dependent.head(1838)\n",
    "Regressors_train = Regressors.head(1838)\n",
    "\n",
    "#20%\n",
    "Dependent_test = Dependent.tail(459)\n",
    "Regressors_test = Regressors.tail(459)"
   ]
  },
  {
   "cell_type": "code",
   "execution_count": 51,
   "id": "d86891ee-e24c-46a8-8db5-f8083069b9c5",
   "metadata": {},
   "outputs": [
    {
     "data": {
      "text/html": [
       "<div>\n",
       "<style scoped>\n",
       "    .dataframe tbody tr th:only-of-type {\n",
       "        vertical-align: middle;\n",
       "    }\n",
       "\n",
       "    .dataframe tbody tr th {\n",
       "        vertical-align: top;\n",
       "    }\n",
       "\n",
       "    .dataframe thead th {\n",
       "        text-align: right;\n",
       "    }\n",
       "</style>\n",
       "<table border=\"1\" class=\"dataframe\">\n",
       "  <thead>\n",
       "    <tr style=\"text-align: right;\">\n",
       "      <th></th>\n",
       "      <th>Date</th>\n",
       "      <th>TTF_Price</th>\n",
       "    </tr>\n",
       "  </thead>\n",
       "  <tbody>\n",
       "    <tr>\n",
       "      <th>0</th>\n",
       "      <td>2014-01-02</td>\n",
       "      <td>26.300</td>\n",
       "    </tr>\n",
       "    <tr>\n",
       "      <th>1</th>\n",
       "      <td>2014-01-03</td>\n",
       "      <td>26.038</td>\n",
       "    </tr>\n",
       "    <tr>\n",
       "      <th>2</th>\n",
       "      <td>2014-01-04</td>\n",
       "      <td>26.750</td>\n",
       "    </tr>\n",
       "    <tr>\n",
       "      <th>3</th>\n",
       "      <td>2014-01-05</td>\n",
       "      <td>25.975</td>\n",
       "    </tr>\n",
       "    <tr>\n",
       "      <th>4</th>\n",
       "      <td>2014-01-06</td>\n",
       "      <td>26.550</td>\n",
       "    </tr>\n",
       "  </tbody>\n",
       "</table>\n",
       "</div>"
      ],
      "text/plain": [
       "        Date  TTF_Price\n",
       "0 2014-01-02     26.300\n",
       "1 2014-01-03     26.038\n",
       "2 2014-01-04     26.750\n",
       "3 2014-01-05     25.975\n",
       "4 2014-01-06     26.550"
      ]
     },
     "execution_count": 51,
     "metadata": {},
     "output_type": "execute_result"
    }
   ],
   "source": [
    "Dependent_train.head()"
   ]
  },
  {
   "cell_type": "code",
   "execution_count": 52,
   "id": "f1ff1c17-b303-4fe0-ab6c-cf1a4c82e912",
   "metadata": {},
   "outputs": [
    {
     "data": {
      "text/html": [
       "<div>\n",
       "<style scoped>\n",
       "    .dataframe tbody tr th:only-of-type {\n",
       "        vertical-align: middle;\n",
       "    }\n",
       "\n",
       "    .dataframe tbody tr th {\n",
       "        vertical-align: top;\n",
       "    }\n",
       "\n",
       "    .dataframe thead th {\n",
       "        text-align: right;\n",
       "    }\n",
       "</style>\n",
       "<table border=\"1\" class=\"dataframe\">\n",
       "  <thead>\n",
       "    <tr style=\"text-align: right;\">\n",
       "      <th></th>\n",
       "      <th>Date</th>\n",
       "      <th>Temperature</th>\n",
       "      <th>Capacity</th>\n",
       "      <th>Brent_Price</th>\n",
       "      <th>Coal_Price</th>\n",
       "    </tr>\n",
       "  </thead>\n",
       "  <tbody>\n",
       "    <tr>\n",
       "      <th>0</th>\n",
       "      <td>2014-01-02</td>\n",
       "      <td>8.8</td>\n",
       "      <td>0.69</td>\n",
       "      <td>81.38</td>\n",
       "      <td>60.88</td>\n",
       "    </tr>\n",
       "    <tr>\n",
       "      <th>1</th>\n",
       "      <td>2014-01-03</td>\n",
       "      <td>9.1</td>\n",
       "      <td>0.69</td>\n",
       "      <td>80.35</td>\n",
       "      <td>59.94</td>\n",
       "    </tr>\n",
       "    <tr>\n",
       "      <th>2</th>\n",
       "      <td>2014-01-04</td>\n",
       "      <td>8.1</td>\n",
       "      <td>0.69</td>\n",
       "      <td>80.35</td>\n",
       "      <td>59.94</td>\n",
       "    </tr>\n",
       "    <tr>\n",
       "      <th>3</th>\n",
       "      <td>2014-01-05</td>\n",
       "      <td>5.8</td>\n",
       "      <td>0.69</td>\n",
       "      <td>80.35</td>\n",
       "      <td>59.94</td>\n",
       "    </tr>\n",
       "    <tr>\n",
       "      <th>4</th>\n",
       "      <td>2014-01-06</td>\n",
       "      <td>11.4</td>\n",
       "      <td>0.69</td>\n",
       "      <td>80.45</td>\n",
       "      <td>60.13</td>\n",
       "    </tr>\n",
       "  </tbody>\n",
       "</table>\n",
       "</div>"
      ],
      "text/plain": [
       "        Date  Temperature  Capacity  Brent_Price  Coal_Price\n",
       "0 2014-01-02          8.8      0.69        81.38       60.88\n",
       "1 2014-01-03          9.1      0.69        80.35       59.94\n",
       "2 2014-01-04          8.1      0.69        80.35       59.94\n",
       "3 2014-01-05          5.8      0.69        80.35       59.94\n",
       "4 2014-01-06         11.4      0.69        80.45       60.13"
      ]
     },
     "execution_count": 52,
     "metadata": {},
     "output_type": "execute_result"
    }
   ],
   "source": [
    "Regressors_train.head()"
   ]
  },
  {
   "cell_type": "code",
   "execution_count": 53,
   "id": "f7bff5b5-267c-4bc1-a66b-c540b5505378",
   "metadata": {},
   "outputs": [
    {
     "data": {
      "text/html": [
       "<div>\n",
       "<style scoped>\n",
       "    .dataframe tbody tr th:only-of-type {\n",
       "        vertical-align: middle;\n",
       "    }\n",
       "\n",
       "    .dataframe tbody tr th {\n",
       "        vertical-align: top;\n",
       "    }\n",
       "\n",
       "    .dataframe thead th {\n",
       "        text-align: right;\n",
       "    }\n",
       "</style>\n",
       "<table border=\"1\" class=\"dataframe\">\n",
       "  <thead>\n",
       "    <tr style=\"text-align: right;\">\n",
       "      <th></th>\n",
       "      <th>Date</th>\n",
       "      <th>TTF_Price</th>\n",
       "    </tr>\n",
       "  </thead>\n",
       "  <tbody>\n",
       "    <tr>\n",
       "      <th>1838</th>\n",
       "      <td>2019-01-26</td>\n",
       "      <td>20.600</td>\n",
       "    </tr>\n",
       "    <tr>\n",
       "      <th>1839</th>\n",
       "      <td>2019-01-27</td>\n",
       "      <td>20.775</td>\n",
       "    </tr>\n",
       "    <tr>\n",
       "      <th>1840</th>\n",
       "      <td>2019-01-28</td>\n",
       "      <td>20.838</td>\n",
       "    </tr>\n",
       "    <tr>\n",
       "      <th>1841</th>\n",
       "      <td>2019-01-29</td>\n",
       "      <td>20.838</td>\n",
       "    </tr>\n",
       "    <tr>\n",
       "      <th>1842</th>\n",
       "      <td>2019-01-30</td>\n",
       "      <td>20.538</td>\n",
       "    </tr>\n",
       "  </tbody>\n",
       "</table>\n",
       "</div>"
      ],
      "text/plain": [
       "           Date  TTF_Price\n",
       "1838 2019-01-26     20.600\n",
       "1839 2019-01-27     20.775\n",
       "1840 2019-01-28     20.838\n",
       "1841 2019-01-29     20.838\n",
       "1842 2019-01-30     20.538"
      ]
     },
     "execution_count": 53,
     "metadata": {},
     "output_type": "execute_result"
    }
   ],
   "source": [
    "Dependent_test.head()"
   ]
  },
  {
   "cell_type": "code",
   "execution_count": 54,
   "id": "895833ea-82dd-4346-9388-1c60e9b8e67b",
   "metadata": {},
   "outputs": [
    {
     "data": {
      "text/html": [
       "<div>\n",
       "<style scoped>\n",
       "    .dataframe tbody tr th:only-of-type {\n",
       "        vertical-align: middle;\n",
       "    }\n",
       "\n",
       "    .dataframe tbody tr th {\n",
       "        vertical-align: top;\n",
       "    }\n",
       "\n",
       "    .dataframe thead th {\n",
       "        text-align: right;\n",
       "    }\n",
       "</style>\n",
       "<table border=\"1\" class=\"dataframe\">\n",
       "  <thead>\n",
       "    <tr style=\"text-align: right;\">\n",
       "      <th></th>\n",
       "      <th>Date</th>\n",
       "      <th>Temperature</th>\n",
       "      <th>Capacity</th>\n",
       "      <th>Brent_Price</th>\n",
       "      <th>Coal_Price</th>\n",
       "    </tr>\n",
       "  </thead>\n",
       "  <tbody>\n",
       "    <tr>\n",
       "      <th>1838</th>\n",
       "      <td>2019-01-26</td>\n",
       "      <td>6.9</td>\n",
       "      <td>0.56</td>\n",
       "      <td>59.32</td>\n",
       "      <td>71.24</td>\n",
       "    </tr>\n",
       "    <tr>\n",
       "      <th>1839</th>\n",
       "      <td>2019-01-27</td>\n",
       "      <td>5.5</td>\n",
       "      <td>0.55</td>\n",
       "      <td>59.32</td>\n",
       "      <td>71.24</td>\n",
       "    </tr>\n",
       "    <tr>\n",
       "      <th>1840</th>\n",
       "      <td>2019-01-28</td>\n",
       "      <td>3.2</td>\n",
       "      <td>0.55</td>\n",
       "      <td>58.83</td>\n",
       "      <td>70.57</td>\n",
       "    </tr>\n",
       "    <tr>\n",
       "      <th>1841</th>\n",
       "      <td>2019-01-29</td>\n",
       "      <td>1.5</td>\n",
       "      <td>0.54</td>\n",
       "      <td>59.69</td>\n",
       "      <td>71.24</td>\n",
       "    </tr>\n",
       "    <tr>\n",
       "      <th>1842</th>\n",
       "      <td>2019-01-30</td>\n",
       "      <td>0.5</td>\n",
       "      <td>0.53</td>\n",
       "      <td>59.77</td>\n",
       "      <td>71.33</td>\n",
       "    </tr>\n",
       "  </tbody>\n",
       "</table>\n",
       "</div>"
      ],
      "text/plain": [
       "           Date  Temperature  Capacity  Brent_Price  Coal_Price\n",
       "1838 2019-01-26          6.9      0.56        59.32       71.24\n",
       "1839 2019-01-27          5.5      0.55        59.32       71.24\n",
       "1840 2019-01-28          3.2      0.55        58.83       70.57\n",
       "1841 2019-01-29          1.5      0.54        59.69       71.24\n",
       "1842 2019-01-30          0.5      0.53        59.77       71.33"
      ]
     },
     "execution_count": 54,
     "metadata": {},
     "output_type": "execute_result"
    }
   ],
   "source": [
    "Regressors_test.head()"
   ]
  },
  {
   "cell_type": "markdown",
   "id": "92c4fec4-7483-4a05-86cb-66e3d53bc394",
   "metadata": {
    "jp-MarkdownHeadingCollapsed": true,
    "tags": []
   },
   "source": [
    "Since all the steps of preprocessing are finished, the models can now be trained with the train set and make precictions. "
   ]
  },
  {
   "cell_type": "markdown",
   "id": "f44329ca-ab0f-4e05-adba-95c289f228ef",
   "metadata": {},
   "source": [
    "# Part 8 -  SVR"
   ]
  },
  {
   "cell_type": "markdown",
   "id": "31686ea5-40e4-45c8-9bd5-c5692603ef8a",
   "metadata": {},
   "source": [
    "set Y and X\n",
    "x = Regressors\n",
    "y = Dependent"
   ]
  },
  {
   "cell_type": "code",
   "execution_count": 55,
   "id": "fd61895a-e23d-43b6-b5f9-5d9589908262",
   "metadata": {},
   "outputs": [],
   "source": [
    "x = Regressors\n",
    "y = Dependent"
   ]
  },
  {
   "cell_type": "code",
   "execution_count": 56,
   "id": "291b120f-65b5-45e3-b85a-3f2323ff7f88",
   "metadata": {},
   "outputs": [],
   "source": [
    "#set index in order to proceed to scaling\n",
    "x = x.set_index('Date')\n",
    "y = y.set_index('Date')"
   ]
  },
  {
   "cell_type": "code",
   "execution_count": 57,
   "id": "ee1b7af0-88b7-4aeb-920f-288a2f686845",
   "metadata": {},
   "outputs": [],
   "source": [
    "sc_x = StandardScaler()\n",
    "x = sc_x.fit_transform(x)\n",
    "sc_y = StandardScaler()\n",
    "y = sc_y.fit_transform(y)"
   ]
  },
  {
   "cell_type": "code",
   "execution_count": 58,
   "id": "d55f39c6-73e9-4cfc-9a9f-14569ea21b7c",
   "metadata": {},
   "outputs": [],
   "source": [
    "#split for arrays\n",
    "x_train, x_test, y_train, y_test = train_test_split(x, y, test_size = 0.2)"
   ]
  },
  {
   "cell_type": "code",
   "execution_count": 59,
   "id": "33004401-1e44-44d3-9867-61d3eb0f3e0b",
   "metadata": {},
   "outputs": [
    {
     "name": "stdout",
     "output_type": "stream",
     "text": [
      "{'C': 10, 'gamma': 1, 'kernel': 'rbf'}\n"
     ]
    }
   ],
   "source": [
    "#GRID SEARCH, SVR OPTIMIZER, required to run once\n",
    "from sklearn.model_selection import GridSearchCV\n",
    "param_grid = {'C': [0.1, 1, 10],\n",
    "              'gamma': [0.001, 0.01, 0.1, 1],\n",
    "              'kernel': ['linear', 'rbf']}\n",
    "svr = SVR()\n",
    "grid_search = GridSearchCV(svr, param_grid, cv=5)\n",
    "grid_search.fit(x_train, y_train.ravel())\n",
    "print(grid_search.best_params_)"
   ]
  },
  {
   "cell_type": "code",
   "execution_count": 60,
   "id": "73c58e08-6b9e-49d6-b236-cd6426286823",
   "metadata": {},
   "outputs": [
    {
     "data": {
      "text/plain": [
       "SVR(C=10, gamma=1)"
      ]
     },
     "execution_count": 60,
     "metadata": {},
     "output_type": "execute_result"
    }
   ],
   "source": [
    "model = SVR(kernel='rbf', C=10, gamma=1)\n",
    "model.fit(x_train, y_train.ravel())"
   ]
  },
  {
   "cell_type": "code",
   "execution_count": 61,
   "id": "fd98b8c1-85f9-44b9-994a-9e5bf7120eef",
   "metadata": {},
   "outputs": [],
   "source": [
    "y_pred = model.predict(x_test)"
   ]
  },
  {
   "cell_type": "markdown",
   "id": "cc60dadc-d164-4fca-bb70-a325a0ea452d",
   "metadata": {},
   "source": [
    "SVR Evaluation Metrics"
   ]
  },
  {
   "cell_type": "code",
   "execution_count": 62,
   "id": "bffe8459-4506-4a1d-bfdc-0593e918dd69",
   "metadata": {},
   "outputs": [
    {
     "name": "stdout",
     "output_type": "stream",
     "text": [
      "SVR Results\n",
      "\n",
      "RMSE:  0.44\n",
      "MAPE:  1.5594770410172776\n",
      "MAE:  0.17995991426760824\n",
      "R-squared: 0.8297280013755115\n"
     ]
    }
   ],
   "source": [
    "#random results, run 10 times and report the average of the performance metrics\n",
    "print(\"SVR Results\")\n",
    "rmse = float(format(np.sqrt(mean_squared_error(y_test, y_pred)), '.3f'))\n",
    "print(\"\\nRMSE: \", rmse)\n",
    "mape = mean_absolute_percentage_error(y_test,y_pred)\n",
    "print(\"MAPE: \", mape)\n",
    "mae = mean_absolute_error(y_test, y_pred)\n",
    "print(\"MAE: \", mae)\n",
    "r2 = r2_score(y_test, y_pred)\n",
    "print(\"R-squared:\", r2)\n",
    "#SVR with diff, try stationarity to see if better results are yielded"
   ]
  },
  {
   "cell_type": "markdown",
   "id": "e2f1bd48-4660-429e-a62f-4f5c45d1951a",
   "metadata": {},
   "source": [
    "Applying First Differencing"
   ]
  },
  {
   "cell_type": "code",
   "execution_count": 63,
   "id": "ff5a1c67-cd95-452e-99c2-256a9dac8d34",
   "metadata": {},
   "outputs": [],
   "source": [
    "df1 = df\n",
    "df1 = df1.set_index('Date')\n",
    "df1_diff = df1.diff().dropna()\n",
    "df1_diff = df1_diff.reset_index()"
   ]
  },
  {
   "cell_type": "code",
   "execution_count": 64,
   "id": "8c090351-8f23-4f20-a6ee-0b4cea03d2c5",
   "metadata": {},
   "outputs": [],
   "source": [
    "y = df1_diff.loc[:,['Date','TTF_Price']]\n",
    "x = df1_diff.loc[:,['Date','Temperature','Capacity','Brent_Price','Coal_Price']]"
   ]
  },
  {
   "cell_type": "code",
   "execution_count": 65,
   "id": "ce043550-fe7b-40bb-b3a3-152b584651ed",
   "metadata": {},
   "outputs": [],
   "source": [
    "y = y.set_index('Date')\n",
    "x = x.set_index('Date')"
   ]
  },
  {
   "cell_type": "code",
   "execution_count": 66,
   "id": "9b561646-3bc5-43ec-aec5-148d682a9372",
   "metadata": {},
   "outputs": [],
   "source": [
    "sc_x = StandardScaler()\n",
    "x = sc_x.fit_transform(x)\n",
    "sc_y = StandardScaler()\n",
    "y = sc_y.fit_transform(y)"
   ]
  },
  {
   "cell_type": "code",
   "execution_count": 67,
   "id": "eb5f6630-f297-4737-9bd0-b9b9ae29e34f",
   "metadata": {},
   "outputs": [],
   "source": [
    "x_train, x_test, y_train, y_test = train_test_split(x, y, test_size = 0.2)"
   ]
  },
  {
   "cell_type": "code",
   "execution_count": 68,
   "id": "b03f1c99-bd60-45f7-bbf2-c4b572560658",
   "metadata": {},
   "outputs": [
    {
     "name": "stdout",
     "output_type": "stream",
     "text": [
      "{'C': 0.1, 'gamma': 0.001, 'kernel': 'rbf'}\n"
     ]
    }
   ],
   "source": [
    "from sklearn.model_selection import GridSearchCV\n",
    "param_grid2 = {'C': [0.1, 1, 10],\n",
    "              'gamma': [0.001, 0.01, 0.1, 1],\n",
    "              'kernel': ['linear', 'rbf']}\n",
    "svr = SVR()\n",
    "grid_search = GridSearchCV(svr, param_grid2, cv=5)\n",
    "grid_search.fit(x_train, y_train.ravel())\n",
    "print(grid_search.best_params_)"
   ]
  },
  {
   "cell_type": "code",
   "execution_count": 69,
   "id": "fa002155-b14b-423c-b9fb-73c3c6fddc9f",
   "metadata": {},
   "outputs": [
    {
     "data": {
      "text/plain": [
       "SVR(C=0.1, gamma=0.1)"
      ]
     },
     "execution_count": 69,
     "metadata": {},
     "output_type": "execute_result"
    }
   ],
   "source": [
    "model = SVR(kernel='rbf', C=0.1, gamma=0.1)\n",
    "model.fit(x_train, y_train.ravel())"
   ]
  },
  {
   "cell_type": "markdown",
   "id": "29aaef9a-5721-44fa-afc3-42a865fa0b48",
   "metadata": {},
   "source": [
    "SVR First Differencing Evaluation Mertrics"
   ]
  },
  {
   "cell_type": "code",
   "execution_count": 70,
   "id": "464cb517-26f5-442a-a4bd-2d3c2a963bfe",
   "metadata": {},
   "outputs": [
    {
     "name": "stdout",
     "output_type": "stream",
     "text": [
      "SVR 1st Diff Results\n",
      "\n",
      "RMSE:  0.403\n",
      "MAPE:  1.323477482275591\n",
      "MAE:  0.2606476098386122\n",
      "R-squared: 0.01441177983134767\n"
     ]
    }
   ],
   "source": [
    "y_pred = model.predict(x_test)\n",
    "print(\"SVR 1st Diff Results\")\n",
    "rmse = float(format(np.sqrt(mean_squared_error(y_test, y_pred)), '.3f'))\n",
    "print(\"\\nRMSE: \", rmse)\n",
    "mape = mean_absolute_percentage_error(y_test,y_pred)\n",
    "print(\"MAPE: \", mape)\n",
    "mae = mean_absolute_error(y_test, y_pred)\n",
    "print(\"MAE: \", mae)\n",
    "r2 = r2_score(y_test, y_pred)\n",
    "print(\"R-squared:\", r2)"
   ]
  },
  {
   "cell_type": "markdown",
   "id": "97f5500c-8a33-4c5e-9e82-d402f54aa720",
   "metadata": {},
   "source": [
    "# Part 9 - SARIMAX"
   ]
  },
  {
   "cell_type": "code",
   "execution_count": 71,
   "id": "6f00e553-a9b3-4a55-8851-060b9bf82a4a",
   "metadata": {},
   "outputs": [
    {
     "name": "stdout",
     "output_type": "stream",
     "text": [
      "1. ADF :  -1.977940454959069\n",
      "2. P-Value :  0.2963284040872005\n",
      "3. Num Of Lags :  17\n",
      "4. Num Of Observations Used For ADF Regression and Critical Values Calculation : 2279\n",
      "5. Critical Values :\n",
      "\t 1% :  -3.4332226111473805\n",
      "\t 5% :  -2.86280905025955\n",
      "\t 10% :  -2.567445573742053\n"
     ]
    }
   ],
   "source": [
    "#ADF Test\n",
    "dftest = adfuller(df.TTF_Price, autolag = 'AIC')\n",
    "print(\"1. ADF : \",dftest[0])\n",
    "print(\"2. P-Value : \", dftest[1])\n",
    "print(\"3. Num Of Lags : \", dftest[2])\n",
    "print(\"4. Num Of Observations Used For ADF Regression and Critical Values Calculation :\", dftest[3])\n",
    "print(\"5. Critical Values :\")\n",
    "for key, val in dftest[4].items():\n",
    "    print(\"\\t\",key, \": \", val)"
   ]
  },
  {
   "cell_type": "markdown",
   "id": "4eb8c6ae-a703-4094-9efa-249d60434977",
   "metadata": {},
   "source": [
    "p-value = 0,29, non stationary time series, requires differencing"
   ]
  },
  {
   "cell_type": "code",
   "execution_count": 72,
   "id": "9aab99c5-bff5-4d7c-a9f8-e0b4a3c98642",
   "metadata": {},
   "outputs": [],
   "source": [
    "# Set the date column as the index\n",
    "Dependent_train=Dependent_train.set_index(\"Date\")\n",
    "Regressors_train=Regressors_train.set_index(\"Date\")\n",
    "Dependent_test=Dependent_test.set_index(\"Date\")\n",
    "Regressors_test=Regressors_test.set_index(\"Date\")"
   ]
  },
  {
   "cell_type": "markdown",
   "id": "5d70826a-8f96-45f9-87a4-8ba9c21c4d0d",
   "metadata": {},
   "source": [
    "SARIMAX RESULTS"
   ]
  },
  {
   "cell_type": "code",
   "execution_count": 73,
   "id": "4a34af79-f8f0-4964-8bbc-165099b059c4",
   "metadata": {},
   "outputs": [
    {
     "name": "stdout",
     "output_type": "stream",
     "text": [
      "                               SARIMAX Results                                \n",
      "==============================================================================\n",
      "Dep. Variable:                      y   No. Observations:                 1838\n",
      "Model:               SARIMAX(2, 1, 1)   Log Likelihood               -2645.333\n",
      "Date:                Fri, 07 Apr 2023   AIC                           5298.666\n",
      "Time:                        15:25:37   BIC                           5320.729\n",
      "Sample:                             0   HQIC                          5306.802\n",
      "                               - 1838                                         \n",
      "Covariance Type:                  opg                                         \n",
      "==============================================================================\n",
      "                 coef    std err          z      P>|z|      [0.025      0.975]\n",
      "------------------------------------------------------------------------------\n",
      "ar.L1          1.0105      0.008    130.374      0.000       0.995       1.026\n",
      "ar.L2         -0.3168      0.009    -35.171      0.000      -0.334      -0.299\n",
      "ma.L1         -0.8814      0.008   -117.465      0.000      -0.896      -0.867\n",
      "sigma2         1.0428      0.004    268.517      0.000       1.035       1.050\n",
      "===================================================================================\n",
      "Ljung-Box (L1) (Q):                   0.12   Jarque-Bera (JB):           9747036.09\n",
      "Prob(Q):                              0.73   Prob(JB):                         0.00\n",
      "Heteroskedasticity (H):               8.91   Skew:                            -0.45\n",
      "Prob(H) (two-sided):                  0.00   Kurtosis:                       359.85\n",
      "===================================================================================\n",
      "\n",
      "Warnings:\n",
      "[1] Covariance matrix calculated using the outer product of gradients (complex-step).\n"
     ]
    }
   ],
   "source": [
    "# Create the SARIMAX model with 5 regressors\n",
    "#model = sm.tsa.SARIMAX(Dependent_train, exog=Regressors_train, order=(2,1,2), seasonal_order=(0,0,0,0))\n",
    "\n",
    "model = auto_arima(Dependent_train, exogenous =Regressors_train, seasonal=True, max_order=None, suppress_warnings=True, stepwise=True)\n",
    "print(model.summary())\n",
    "sarimaxforecasts = model.predict(n_periods=len(Dependent_test), exogenous=Regressors_test)\n",
    "#sarimaxforecasts = results.get_forecast(steps=326, exog=Regressors_test)"
   ]
  },
  {
   "cell_type": "markdown",
   "id": "35061c37-f375-46a4-aa62-6c813e5145d0",
   "metadata": {},
   "source": [
    "SARIMAX Evaluation Metrics"
   ]
  },
  {
   "cell_type": "code",
   "execution_count": 74,
   "id": "97ae5896-ac38-4a65-8b32-598a6ba6482c",
   "metadata": {},
   "outputs": [
    {
     "name": "stdout",
     "output_type": "stream",
     "text": [
      "SARIMAX Results\n",
      "\n",
      "RMSE:  10.256857297129665\n",
      "MAPE:  0.9553343000511084\n",
      "MAE:  9.727424281250252\n",
      "R-squared: -9.004687822614608\n"
     ]
    }
   ],
   "source": [
    "rmse = np.sqrt(mean_squared_error(Dependent_test, sarimaxforecasts))\n",
    "mape = mean_absolute_percentage_error(Dependent_test, sarimaxforecasts)\n",
    "mae = mean_absolute_error(Dependent_test, sarimaxforecasts)\n",
    "r2 = r2_score(Dependent_test, sarimaxforecasts)\n",
    "print(\"SARIMAX Results\")\n",
    "print(\"\\nRMSE: \", rmse)\n",
    "print(\"MAPE: \", mape)\n",
    "print(\"MAE: \", mae)\n",
    "print(\"R-squared:\", r2)"
   ]
  },
  {
   "cell_type": "markdown",
   "id": "8ddd693e-28f5-4394-a3c0-695c921fb6be",
   "metadata": {},
   "source": [
    "# Part 10 - MLR"
   ]
  },
  {
   "cell_type": "code",
   "execution_count": 75,
   "id": "1219809c-e8b6-4bb8-923e-1e2a79f00666",
   "metadata": {},
   "outputs": [],
   "source": [
    "LRX_train = Regressors_train\n",
    "LRY_train = Dependent_train\n",
    "#LRX_train = LRX_train.reset_index(drop=True)\n",
    "#LRY_train = LRY_train.reset_index(drop=True)\n",
    "\n",
    "LRX_test = Regressors_test\n",
    "LRY_test = Dependent_test\n",
    "#LRX_test = LRX_test.reset_index(drop=True)\n",
    "#LRY_test = LRY_test.reset_index(drop=True)"
   ]
  },
  {
   "cell_type": "code",
   "execution_count": 76,
   "id": "13f1d423-c7cf-45e0-a527-0b9b91b631f7",
   "metadata": {},
   "outputs": [],
   "source": [
    "#X_train, X_test, y_train, y_test = train_test_split(LRX, LRY, test_size=0.2)\n",
    "lr = LinearRegression().fit(LRX_train, LRY_train)"
   ]
  },
  {
   "cell_type": "code",
   "execution_count": 77,
   "id": "4c4a09af-53d5-4724-8f47-e29565539591",
   "metadata": {},
   "outputs": [],
   "source": [
    "# Make predictions with the regressor test set\n",
    "lry_pred = lr.predict(LRX_test)"
   ]
  },
  {
   "cell_type": "markdown",
   "id": "1e1555b8-bff4-4f61-a699-e79da910fe60",
   "metadata": {},
   "source": [
    "MLR Evaluation Metrics"
   ]
  },
  {
   "cell_type": "code",
   "execution_count": 78,
   "id": "deb4ee87-47ac-42e9-b70a-0e285c344e1a",
   "metadata": {},
   "outputs": [
    {
     "name": "stdout",
     "output_type": "stream",
     "text": [
      "Linear Regression Results\n",
      "\n",
      "RMSE:  5.992219981995025\n",
      "\n",
      "MAPE:  0.5380565395279332\n",
      "MAE:  5.728864464873071\n",
      "R-squared: -2.414683156333511\n"
     ]
    }
   ],
   "source": [
    "mape = mean_absolute_percentage_error(LRY_test, lry_pred)\n",
    "rmse = np.sqrt(mean_squared_error(LRY_test, lry_pred))\n",
    "mae = mean_absolute_error(LRY_test, lry_pred)\n",
    "r2 = r2_score(LRY_test, lry_pred)\n",
    "print(\"Linear Regression Results\")\n",
    "print(\"\\nRMSE: \", rmse)\n",
    "print(\"\\nMAPE: \", mape)\n",
    "print(\"MAE: \", mae)\n",
    "print(\"R-squared:\", r2)"
   ]
  },
  {
   "cell_type": "markdown",
   "id": "94969343-a2b7-4c6b-ae41-b3855f51cfae",
   "metadata": {},
   "source": [
    "# Part 11 - 4th Model: RNN"
   ]
  },
  {
   "cell_type": "code",
   "execution_count": 79,
   "id": "b248f40f-5fc1-4ceb-85c4-5322caa4170d",
   "metadata": {},
   "outputs": [],
   "source": [
    "# load the dat/aset\n",
    "dfrnn = df\n",
    "dfrnn = dfrnn.set_index('Date')"
   ]
  },
  {
   "cell_type": "code",
   "execution_count": 80,
   "id": "96fd03dc-999a-4d8c-bc78-7a9f86350f63",
   "metadata": {},
   "outputs": [],
   "source": [
    "# Select target variable and regressors\n",
    "target_var = 'TTF_Price'\n",
    "regressors = ['Temperature', 'Capacity', 'Coal_Price', 'Brent_Price']"
   ]
  },
  {
   "cell_type": "code",
   "execution_count": 81,
   "id": "e5ec4c02-83cb-460f-8674-617a2f2488bf",
   "metadata": {},
   "outputs": [],
   "source": [
    "# Split data into train and test sets\n",
    "train_data = df.head(1838)\n",
    "test_data = df.tail(459)"
   ]
  },
  {
   "cell_type": "code",
   "execution_count": 82,
   "id": "928078af-9898-4792-8496-06fa90682cac",
   "metadata": {},
   "outputs": [],
   "source": [
    "# Scale data\n",
    "scaler = MinMaxScaler()\n",
    "train_data_scaled = scaler.fit_transform(train_data[[target_var] + regressors])\n",
    "test_data_scaled = scaler.transform(test_data[[target_var] + regressors])"
   ]
  },
  {
   "cell_type": "code",
   "execution_count": 83,
   "id": "17ff1a7c-9423-4f2e-85a0-1ab3419ab6f6",
   "metadata": {},
   "outputs": [],
   "source": [
    "#  Define function to create samples\n",
    "def create_samples(data, n_steps):\n",
    "    X, Y = [], []\n",
    "    for i in range(len(data)-n_steps):\n",
    "        X.append(data[i:i+n_steps, 1:])\n",
    "        Y.append(data[i+n_steps, 0])\n",
    "    return np.array(X), np.array(Y)"
   ]
  },
  {
   "cell_type": "code",
   "execution_count": 84,
   "id": "50483383-6f67-4d42-9f77-26bf2129c230",
   "metadata": {},
   "outputs": [],
   "source": [
    "# Set number of time steps\n",
    "n_steps = 5"
   ]
  },
  {
   "cell_type": "code",
   "execution_count": 85,
   "id": "caf21a30-0a79-485e-b61f-a195d56d4402",
   "metadata": {},
   "outputs": [],
   "source": [
    "# Create train and test samples\n",
    "X_train, Y_train = create_samples(train_data_scaled, n_steps)\n",
    "X_test, Y_test = create_samples(test_data_scaled, n_steps)"
   ]
  },
  {
   "cell_type": "code",
   "execution_count": 88,
   "id": "c9a8bbee-2f83-453b-84f9-ab958cd18da9",
   "metadata": {},
   "outputs": [],
   "source": [
    "# Define LSTM model\n",
    "model = Sequential()\n",
    "model.add(LSTM(100, activation='relu', input_shape=(n_steps, len(regressors))))\n",
    "model.add(Dense(1))\n",
    "model.compile(optimizer='adam', loss='mse')"
   ]
  },
  {
   "cell_type": "code",
   "execution_count": 89,
   "id": "9c35678d-9f3d-4c91-be6d-ffb77c59d42d",
   "metadata": {},
   "outputs": [
    {
     "data": {
      "text/plain": [
       "<keras.callbacks.History at 0x12ef72520>"
      ]
     },
     "execution_count": 89,
     "metadata": {},
     "output_type": "execute_result"
    }
   ],
   "source": [
    "# Fit model\n",
    "model.fit(X_train, Y_train, epochs=200, verbose=0)"
   ]
  },
  {
   "cell_type": "code",
   "execution_count": 90,
   "id": "a60a3fa2-8bbc-4975-872a-33ac17cd6fb9",
   "metadata": {},
   "outputs": [
    {
     "name": "stdout",
     "output_type": "stream",
     "text": [
      "15/15 [==============================] - 0s 4ms/step\n"
     ]
    }
   ],
   "source": [
    "# Make predictions\n",
    "y_pred = model.predict(X_test)"
   ]
  },
  {
   "cell_type": "code",
   "execution_count": 91,
   "id": "fd29a129-702a-4598-868a-3121c143af87",
   "metadata": {},
   "outputs": [],
   "source": [
    "# Inverse transform predictions and actual values\n",
    "y_pred_inv = scaler.inverse_transform(np.concatenate((y_pred, test_data_scaled[-len(y_pred):, 1:]), axis=1))[:, 0]\n",
    "Y_test_inv = scaler.inverse_transform(np.concatenate((Y_test.reshape(-1,1), test_data_scaled[-len(y_pred):, 1:]), axis=1))[:, 0]"
   ]
  },
  {
   "cell_type": "markdown",
   "id": "a2b71e15-7e42-4270-a2b5-dcdd5990221c",
   "metadata": {},
   "source": [
    "RNN Evaluation Metrics"
   ]
  },
  {
   "cell_type": "code",
   "execution_count": 92,
   "id": "b5d3a9b2-cdec-4676-9187-0b0c1022ce5c",
   "metadata": {},
   "outputs": [
    {
     "name": "stdout",
     "output_type": "stream",
     "text": [
      "RNN-LSTM Results\n",
      "\n",
      "RMSE:  7.896046825265158\n",
      "\n",
      "MAPE:  0.7117652288711713\n",
      "MAE:  7.5198405069541385\n",
      "R-squared: -5.380401439810931\n"
     ]
    }
   ],
   "source": [
    "rmse = np.sqrt(mean_squared_error(Y_test_inv, y_pred_inv))\n",
    "mape = mean_absolute_percentage_error(Y_test_inv,y_pred_inv)\n",
    "mae = mean_absolute_error(Y_test_inv,y_pred_inv)\n",
    "r2 = r2_score(Y_test_inv,y_pred_inv)\n",
    "print('RNN-LSTM Results')\n",
    "print(\"\\nRMSE: \", rmse)\n",
    "print(\"\\nMAPE: \", mape)\n",
    "print(\"MAE: \", mae)\n",
    "print(\"R-squared:\", r2)"
   ]
  },
  {
   "cell_type": "markdown",
   "id": "25c8d7a3-2d1f-44b2-9605-ca7a46a02101",
   "metadata": {},
   "source": [
    "# This is the end of my data analysis notebook. The results and conclusion will be presented in my thesis. Thanks for your time"
   ]
  }
 ],
 "metadata": {
  "kernelspec": {
   "display_name": "Python 3 (ipykernel)",
   "language": "python",
   "name": "python3"
  },
  "language_info": {
   "codemirror_mode": {
    "name": "ipython",
    "version": 3
   },
   "file_extension": ".py",
   "mimetype": "text/x-python",
   "name": "python",
   "nbconvert_exporter": "python",
   "pygments_lexer": "ipython3",
   "version": "3.9.10"
  },
  "toc-autonumbering": true,
  "toc-showcode": true,
  "toc-showmarkdowntxt": true
 },
 "nbformat": 4,
 "nbformat_minor": 5
}
